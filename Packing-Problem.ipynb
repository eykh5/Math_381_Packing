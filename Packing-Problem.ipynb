{
 "cells": [
  {
   "cell_type": "code",
   "execution_count": 1,
   "id": "baea9357",
   "metadata": {},
   "outputs": [],
   "source": [
    "import numpy as np\n",
    "import pandas as pd\n",
    "import matplotlib.pyplot as plt\n",
    "from multipledispatch import dispatch"
   ]
  },
  {
   "cell_type": "code",
   "execution_count": 2,
   "id": "a294b5f6",
   "metadata": {},
   "outputs": [],
   "source": [
    "pkg_cnt = [1000, 1000, 1000]\n",
    "cargo_distribution = [.5, .4, .1]\n",
    "weight = [43, 48, 7.1]\n",
    "\n",
    "container_dim = [11800, 2340, 2690]\n",
    "volume = np.prod(container_dim, dtype = \"double\")\n",
    "weight_limit = 22_000\n",
    "\n",
    "space_occupancy = .05\n",
    "\n",
    "c1_dim1 = [605, 470, 500]\n",
    "c1_dim2 = [470, 605, 500]\n",
    "c1_vol = np.prod(c1_dim1)\n",
    "c2_dim1 = [675, 490, 510]\n",
    "c2_dim2 = [490, 675, 510]\n",
    "c2_vol = np.prod(c2_dim1)\n",
    "c3_dim1 = [1150, 290, 230]\n",
    "c3_dim2 = [290, 1150, 230]\n",
    "c3_vol = np.prod(c3_dim1)\n",
    "\n",
    "box_dims = np.array([c1_dim1, c2_dim1, c3_dim1])"
   ]
  },
  {
   "cell_type": "code",
   "execution_count": 3,
   "id": "686fa0d0",
   "metadata": {},
   "outputs": [],
   "source": [
    "def vol_limit(container_dim = container_dim, cont_dims = container_dim, c1_dim1 = c1_dim1, c2_dim2 = c2_dim2, c3_dim1 = c3_dim1, occupancy = .9,\n",
    "             weight_limit = 22_000):\n",
    "    pkg_cnt = cargo_count()\n",
    "#     for j in np.arange(np.sum(pkg_cnt)):\n",
    "    return pkg_cnt"
   ]
  },
  {
   "cell_type": "code",
   "execution_count": 4,
   "id": "8f712336",
   "metadata": {},
   "outputs": [],
   "source": [
    "def cargo_count(container_dim = container_dim, box_dims = box_dims, occupancy = space_occupancy,\n",
    "               cargo_distribution = cargo_distribution):\n",
    "    cont_vol = np.prod(container_dim, dtype = \"double\")\n",
    "    volumes = list()\n",
    "    for box in box_dims:\n",
    "        volumes.append(np.prod(box))\n",
    "    cont_vol_occ = cont_vol * occupancy\n",
    "    vol_allocation = np.array(cargo_distribution) * cont_vol_occ\n",
    "    cargo_count = np.divide(vol_allocation, volumes)\n",
    "    return np.trunc(cargo_count)"
   ]
  },
  {
   "cell_type": "code",
   "execution_count": 5,
   "id": "c5a90592",
   "metadata": {},
   "outputs": [
    {
     "data": {
      "text/plain": [
       "array([13.,  8.,  4.])"
      ]
     },
     "execution_count": 5,
     "metadata": {},
     "output_type": "execute_result"
    }
   ],
   "source": [
    "num_boxes = cargo_count()\n",
    "num_boxes"
   ]
  },
  {
   "cell_type": "code",
   "execution_count": 6,
   "id": "59eaed05",
   "metadata": {},
   "outputs": [],
   "source": [
    "class Point():\n",
    "    def __init__(self, x, y, z):\n",
    "        self.x = x\n",
    "        self.y = y\n",
    "        self.z = z\n",
    "        \n",
    "    @classmethod\n",
    "    def two_dim_point(cls, x, y):\n",
    "        return cls(x, y, 0)\n",
    "    \n",
    "    def __str__(self):\n",
    "        return \"(\" + str(self.x) + \",\" + str(self.y) + \",\" + str(self.z) + \")\"\n",
    "    \n",
    "    def __gt__(self, Point2):\n",
    "        return np.linalg.norm([self.x, self.y, self.z]) > np.linalg.norm([Point2.x, Point2.y, Point2.z])\n",
    "    \n",
    "#     def __eq__(self, Point2):\n",
    "#         return ((self.x == Point2.x) and (self.y == Point2.y))\n",
    "    "
   ]
  },
  {
   "cell_type": "code",
   "execution_count": 7,
   "id": "fe6f2384",
   "metadata": {},
   "outputs": [],
   "source": [
    "class Box():\n",
    "    def __init__(self, btype, orientation, dims):\n",
    "        self.btype = btype\n",
    "        if orientation == 1:\n",
    "            hold = dims[0]\n",
    "            dims[0] = dims[1]\n",
    "            dims[1] = hold\n",
    "        self.orientation = orientation\n",
    "        self.dims = dims\n",
    "        \n",
    "    def flip(self):\n",
    "        hold = self.dims[0]\n",
    "        self.dims[0] = self.dims[1]\n",
    "        self.dims[1] = hold"
   ]
  },
  {
   "cell_type": "code",
   "execution_count": 11,
   "id": "dc45b80a",
   "metadata": {},
   "outputs": [],
   "source": [
    "# corner: list of corner points. (Use Point object defined above)\n",
    "# space: No clue. It's just there. Don't question it.\n",
    "# box_count: number of boxes in container.\n",
    "# location of boxes: Set as \n",
    "\n",
    "class Container(object):\n",
    "    def __init__(self, corner, space, box_count, box_loc, dimension):\n",
    "        self.corner = corner\n",
    "        self.space = space\n",
    "        self.box_count = box_count\n",
    "        self.box_loc = box_loc\n",
    "        self.dimension = dimension\n",
    "        self.ordered_box = []\n",
    "        self.corner_3d = []\n",
    "        self.corner_3d_prev = []\n",
    "        self.k_star = 0\n",
    "        self.t_sorted = []\n",
    "        self.avail_box_list = []\n",
    "        \n",
    "    @classmethod\n",
    "    def empty(cls, dimension):\n",
    "        return cls([], 0, 0, {}, dimension)\n",
    "    \n",
    "    # box_type: the box number of the box_type you are placing in box\n",
    "    # orientation: orientation number corresponding to the following convention:\n",
    "        # 0: (L, W, H) Note: This is the original input sequence.\n",
    "        # 1: (W, L, H)\n",
    "    # corner: An item of Point class with field values set for the x, y, and z values.\n",
    "    # dims: A list with the dimension of boxes. \n",
    "    # cargo: box object\n",
    "    \n",
    "    #This class method acts to \"place\" a box in the container.    \n",
    "    def place(self, corner, cargo, box_list = num_boxes, box_dims = box_dims):\n",
    "        \n",
    "        dictionary = self.box_loc.items()\n",
    "        val = -1        \n",
    "        self.box_loc[corner] = (cargo.btype, corner.x + cargo.dims[0], corner.y + cargo.dims[1], \n",
    "                           corner.z + cargo.dims[2])\n",
    "        \n",
    "        self.find_corners_2d(box_list, box_dims)\n",
    "        \n",
    "        val = self.eval_2d()\n",
    "        \n",
    "        self.box_loc.pop(corner, None)\n",
    "        \n",
    "#         print(\"after popping box\")\n",
    "        \n",
    "        cargo.flip()\n",
    "        \n",
    "        self.box_loc[corner] = (cargo.btype, corner.x + cargo.dims[0], corner.y + cargo.dims[1], \n",
    "                                corner.z + cargo.dims[2])\n",
    "        \n",
    "        self.find_corners_2d(box_list, box_dims)\n",
    "        \n",
    "        val1 = self.eval_2d()\n",
    "        \n",
    "        self.box_loc.pop(corner, None)\n",
    "        if (val1 > val):\n",
    "            cargo.flip()\n",
    "        self.box_loc[corner] = (cargo.btype, corner.x + cargo.dims[0], corner.y + cargo.dims[1], \n",
    "                                corner.z + cargo.dims[2])\n",
    "        self.box_count += 1\n",
    "        \n",
    "    def place_3d(self, corner, cargo, box_list = num_boxes, box_dims = box_dims):\n",
    "        \n",
    "        dictionary = self.box_loc.items()\n",
    "        val = -1        \n",
    "        self.box_loc[corner] = (cargo.btype, corner.x + cargo.dims[0], corner.y + cargo.dims[1], \n",
    "                           corner.z + cargo.dims[2])\n",
    "        \n",
    "        self.find_corners_3d(box_list, box_dims)\n",
    "        \n",
    "        val = self.eval_3d(box_list, box_dims)\n",
    "        \n",
    "        self.box_loc.pop(corner, None)\n",
    "        \n",
    "#         print(\"after popping box\")\n",
    "        \n",
    "        cargo.flip()\n",
    "        \n",
    "        self.box_loc[corner] = (cargo.btype, corner.x + cargo.dims[0], corner.y + cargo.dims[1], \n",
    "                                corner.z + cargo.dims[2])\n",
    "        \n",
    "        self.find_corners_3d(box_list, box_dims)\n",
    "        \n",
    "        val1 = self.eval_3d(box_list, box_dims)\n",
    "        \n",
    "        self.box_loc.pop(corner, None)\n",
    "        if (val1 > val):\n",
    "            cargo.flip()\n",
    "        self.box_loc[corner] = (cargo.btype, corner.x + cargo.dims[0], corner.y + cargo.dims[1], \n",
    "                                corner.z + cargo.dims[2])\n",
    "        self.box_count += 1\n",
    "        \n",
    "        \n",
    "\n",
    "    \n",
    "    def order_boxes(self):\n",
    "        pairs = self.box_loc.items()\n",
    "        \n",
    "        return sorted(pairs, key = lambda x: (x[1][2], x[1][1]), reverse = True)\n",
    "    \n",
    "    def set_corner(self, point):\n",
    "        self.corner.append(point)\n",
    "            \n",
    "        \n",
    "    # box_list: List of boxes not yet added to container\n",
    "    \n",
    "    def sort_corners(self):\n",
    "        return self.corner.sort()\n",
    "    \n",
    "    @dispatch(np.ndarray, np.ndarray)\n",
    "    def find_corners_2d(self, box_list, box_dims):\n",
    "        self.corner = []\n",
    "        if self.box_count == 0:\n",
    "            self.corner.append(Point.two_dim_point(0, 0))\n",
    "            return\n",
    "        #Phase 1: Identify Extreme Points.\n",
    "        \n",
    "        x_bar = 0\n",
    "        m = 0\n",
    "        em = list()\n",
    "        em.append(0)\n",
    "        ordered_boxes = self.order_boxes()\n",
    "        self.ordered_box = ordered_boxes\n",
    "        \n",
    "        for index, value in enumerate(ordered_boxes):\n",
    "            corner, b_data = value\n",
    "            btype, x, y, z = b_data\n",
    "            if x > x_bar:\n",
    "                m += 1\n",
    "                em.append(index)\n",
    "                x_bar = x\n",
    "        # Phase 2: Find Corner Points\n",
    "        self.corner.append(Point.two_dim_point(0, ordered_boxes[0][1][2]))\n",
    "        self.corner.append(Point.two_dim_point(ordered_boxes[em[m]][1][1], 0))\n",
    "        for j in np.arange(2, m+1):\n",
    "            self.corner.append(Point.two_dim_point(ordered_boxes[em[j-1]][1][1], ordered_boxes[em[j]][1][2]))\n",
    "            \n",
    "        # Phase 3: Remove redundant/infeasible corner points:\n",
    "        pres = []\n",
    "        for i in np.arange(len(box_list)):\n",
    "            if box_list[i] != 0:\n",
    "                pres.append(box_dims[i])\n",
    "        pres = np.array(pres)\n",
    "        x_avail = pres[:, 0]\n",
    "        y_avail = pres[:, 1]\n",
    "        to_be_removed = []\n",
    "        \n",
    "        for corn in self.corner:\n",
    "            if (corn.x + min(x_avail) > self.dimension[0]) or (corn.y + min(y_avail) > self.dimension[1]):\n",
    "                to_be_removed.append(corn)\n",
    "        self.corner = [e for e in self.corner if e not in to_be_removed]\n",
    "        \n",
    "    @dispatch()\n",
    "    def eval_2d(self):\n",
    "        if(len(self.corner) > 0):\n",
    "            sum = self.corner[0].x*self.dimension[1]\n",
    "            for i in np.arange(1, len(self.corner)):\n",
    "                sum+= (self.corner[i].x - self.corner[i - 1].x) * self.corner[i - 1].y\n",
    "            sum += + (self.dimension[0] - self.corner[len(self.corner) -1].x) * self.corner[len(self.corner) -1].y\n",
    "            return sum\n",
    "        if(len(self.corner) == 1):\n",
    "            return self.dimension[0] * self.dimension[1]\n",
    "    \n",
    "    @dispatch(list)\n",
    "    def eval_2d(self, available_boxes, box_list, box_dims):\n",
    "        self.find_corners_2d(box_list, box_dims, available_boxes)\n",
    "        if(len(self.corner) > 0):\n",
    "            sum = self.corner[0].x*self.dimension[1]\n",
    "            for i in np.arange(1, len(self.corner)):\n",
    "                sum+= (self.corner[i].x - self.corner[i - 1].x) * self.corner[i - 1].y\n",
    "            sum += + (self.dimension[0] - self.corner[len(self.corner) -1].x) * self.corner[len(self.corner) -1].y\n",
    "            return sum\n",
    "        if(len(self.corner) == 1):\n",
    "            return self.dimension[0] * self.dimension[1]\n",
    "        \n",
    "    def eval_3d(self, box_list, box_dims):\n",
    "        sum = 0\n",
    "        for i in np.arange(2, self.k_star):\n",
    "            sum += (self.t_sorted[i] - self.t_sorted[i - 1]) * eval_2d(self.avail_box_list[i], box_list, box_dims)\n",
    "        print(\"k_star\", self.k_star)\n",
    "        print(\"length of t\", len(self.t_sorted))\n",
    "        if(self.k_star < len(self.t_sorted)):\n",
    "            sum += (self.dimension[2] - self.t_sorted[self.k_star]) * eval_2d(self.avail_box_list[self.k_star], box_list, box_dims)\n",
    "        return sum\n",
    "    \n",
    "    @dispatch(np.ndarray, np.ndarray, list)\n",
    "    def find_corners_2d(self, box_list, box_dims, available_boxes):\n",
    "        self.corner = []\n",
    "        if self.box_count == 0:\n",
    "            self.corner.append(Point.two_dim_point(0, 0))\n",
    "            return\n",
    "        #Phase 1: Identify Extreme Points.\n",
    "        \n",
    "        x_bar = 0\n",
    "        m = 0\n",
    "        em = list()\n",
    "        em.append(0)\n",
    "        ordered_boxes = sorted(available_boxes, key = lambda x: (x[1][2], x[1][1]), reverse = True)\n",
    "        \n",
    "        for index, value in enumerate(ordered_boxes):\n",
    "            corner, b_data = value\n",
    "            btype, x, y, z = b_data\n",
    "            if x > x_bar:\n",
    "                m += 1\n",
    "                em.append(index)\n",
    "                x_bar = x\n",
    "        # Phase 2: Find Corner Points\n",
    "        print(\"ordered_boxes: \", ordered_boxes)\n",
    "        self.corner.append(Point.two_dim_point(0, ordered_boxes[0][1][2]))\n",
    "        self.corner.append(Point.two_dim_point(ordered_boxes[em[m]][1][1], 0))\n",
    "        for j in np.arange(2, m+1):\n",
    "            self.corner.append(Point.two_dim_point(ordered_boxes[em[j-1]][1][1], ordered_boxes[em[j]][1][2]))\n",
    "            \n",
    "        # Phase 3: Remove redundant/infeasible corner points:\n",
    "        pres = []\n",
    "        for i in np.arange(len(box_list)):\n",
    "            if box_list[i] != 0:\n",
    "                pres.append(box_dims[i])\n",
    "        pres = np.array(pres)\n",
    "        x_avail = pres[:, 0]\n",
    "        y_avail = pres[:, 1]\n",
    "        to_be_removed = []\n",
    "        \n",
    "        for corn in self.corner:\n",
    "            if (corn.x + min(x_avail) > self.dimension[0]) or (corn.y + min(y_avail) > self.dimension[1]):\n",
    "                to_be_removed.append(corn)\n",
    "        self.corner = [e for e in self.corner if e not in to_be_removed]\n",
    "\n",
    "    \n",
    "    \n",
    "# Find 3d Corners:\n",
    "\n",
    "    def find_corners_3d(self, box_list, box_dims):\n",
    "        self.corner_3d = []\n",
    "        if self.box_count == 0:\n",
    "            self.corner_3d.append(Point(0, 0, 0))\n",
    "            return\n",
    "        ordered_boxes = self.order_boxes()\n",
    "        self.ordered_box = ordered_boxes\n",
    "        T = set()\n",
    "        T.add(0)\n",
    "        for index, value in enumerate(ordered_boxes):\n",
    "            corner, b_data = value\n",
    "            btype, x, y, z = b_data\n",
    "            T.add(z)\n",
    "        present = []\n",
    "        for i in np.arange(len(box_list)):\n",
    "            if box_list[i] != 0:\n",
    "                present.append(box_dims[i])\n",
    "        T_sorted = sorted(T)\n",
    "#         print(\"T_sorted\", T_sorted)\n",
    "        present = np.array(present)\n",
    "        z_avail = present[:, 2]\n",
    "        k = 1\n",
    "        r = len(T_sorted)\n",
    "        self.t_sorted = T_sorted\n",
    "#         self.avail_box_list.append([(Point(-1,-1,-1), (-1, -1, -1))])\n",
    "        while(k <= r) and (T_sorted[k-1] + min(z_avail) <= self.dimension[2]):\n",
    "            Ik = []\n",
    "            print(\"run\", k)\n",
    "            for i in ordered_boxes:\n",
    "#                 print(\"i[1][3]:\", i[1][3])\n",
    "#                 print(\"T_sorted[k-1]:\", T_sorted[k-1])\n",
    "                if(i[1][3] > T_sorted[k-1]):\n",
    "                    Ik.append(i)\n",
    "            if(len(Ik) != 0):\n",
    "                self.find_corners_2d(box_list, box_dims, Ik)\n",
    "                self.avail_box_list.append(Ik)\n",
    "            else:\n",
    "                self.corner.append(Point(0, 0, T_sorted[k-1]))\n",
    "            under_consideration = []\n",
    "            for i in self.corner:\n",
    "#                 print(\"run \" + str(k) + \": corner \" + str(i) + \": Height: \" + str(T_sorted[k-1]) )\n",
    "                under_consideration.append(Point(i.x, i.y, T_sorted[k-1]))\n",
    "                \n",
    "            \n",
    "            for pt in under_consideration:\n",
    "                check = 0\n",
    "                print(\"point being considered:\",pt)\n",
    "                for prev in self.corner_3d_prev:\n",
    "                    if (pt.x == prev.x and pt.y == prev.y):\n",
    "                        check = 1\n",
    "                if (check == 0):\n",
    "                    self.corner_3d.append(pt)\n",
    "            self.k_star = k\n",
    "            k = k + 1\n",
    "            self.corner_3d_prev = self.corner_3d\n",
    "            print(\"current corners\")\n",
    "            for i in self.corner_3d:\n",
    "                print(i)\n",
    "        self.corner_3d_prev = []\n",
    "        check = set()\n",
    "        for i in self.corner_3d:\n",
    "            check.add(i)\n",
    "        self.corner_3d = sorted(check)"
   ]
  },
  {
   "cell_type": "markdown",
   "id": "89c4e9ec",
   "metadata": {},
   "source": [
    "# Testing"
   ]
  },
  {
   "cell_type": "code",
   "execution_count": 12,
   "id": "a3c3257b",
   "metadata": {},
   "outputs": [
    {
     "name": "stdout",
     "output_type": "stream",
     "text": [
      "box 1 added\n",
      "k_star 0\n",
      "length of t 0\n",
      "k_star 0\n",
      "length of t 0\n",
      "run 1\n",
      "ordered_boxes:  [(<__main__.Point object at 0x00000236518C3520>, (0, 470, 605, 500))]\n",
      "point being considered: (0,605,0)\n",
      "point being considered: (470,0,0)\n",
      "current corners\n",
      "(0,605,0)\n",
      "(470,0,0)\n",
      "run 2\n",
      "point being considered: (0,605,500)\n",
      "point being considered: (470,0,500)\n",
      "point being considered: (0,0,500)\n",
      "current corners\n",
      "(0,605,0)\n",
      "(470,0,0)\n",
      "(0,0,500)\n",
      "box 2 added\n",
      "run 1\n",
      "ordered_boxes:  [(<__main__.Point object at 0x00000236518C3C40>, (0, 470, 1210, 500)), (<__main__.Point object at 0x00000236518C3520>, (0, 470, 605, 500))]\n",
      "point being considered: (0,1210,0)\n",
      "point being considered: (470,0,0)\n",
      "current corners\n",
      "(0,1210,0)\n",
      "(470,0,0)\n",
      "run 2\n",
      "point being considered: (0,1210,500)\n",
      "point being considered: (470,0,500)\n",
      "point being considered: (0,0,500)\n",
      "current corners\n",
      "(0,1210,0)\n",
      "(470,0,0)\n",
      "(0,0,500)\n",
      "k_star 2\n",
      "length of t 2\n",
      "run 1\n",
      "ordered_boxes:  [(<__main__.Point object at 0x00000236518C3C40>, (0, 605, 1075, 500)), (<__main__.Point object at 0x00000236518C3520>, (0, 470, 605, 500))]\n",
      "point being considered: (0,1075,0)\n",
      "point being considered: (605,0,0)\n",
      "current corners\n",
      "(0,1075,0)\n",
      "(605,0,0)\n",
      "run 2\n",
      "point being considered: (0,1075,500)\n",
      "point being considered: (605,0,500)\n",
      "point being considered: (0,0,500)\n",
      "current corners\n",
      "(0,1075,0)\n",
      "(605,0,0)\n",
      "(0,0,500)\n",
      "k_star 2\n",
      "length of t 2\n",
      "run 1\n",
      "ordered_boxes:  [(<__main__.Point object at 0x00000236518C3C40>, (0, 605, 1075, 500)), (<__main__.Point object at 0x00000236518C3520>, (0, 470, 605, 500))]\n",
      "point being considered: (0,1075,0)\n",
      "point being considered: (605,0,0)\n",
      "current corners\n",
      "(0,1075,0)\n",
      "(605,0,0)\n",
      "run 2\n",
      "point being considered: (0,1075,500)\n",
      "point being considered: (605,0,500)\n",
      "point being considered: (0,0,500)\n",
      "current corners\n",
      "(0,1075,0)\n",
      "(605,0,0)\n",
      "(0,0,500)\n",
      "box 3 added\n",
      "run 1\n",
      "ordered_boxes:  [(<__main__.Point object at 0x00000236518C2D90>, (0, 605, 1545, 500)), (<__main__.Point object at 0x00000236518C3C40>, (0, 605, 1075, 500)), (<__main__.Point object at 0x00000236518C3520>, (0, 470, 605, 500))]\n",
      "point being considered: (0,1545,0)\n",
      "point being considered: (605,0,0)\n",
      "current corners\n",
      "(0,1545,0)\n",
      "(605,0,0)\n",
      "run 2\n",
      "point being considered: (0,1545,500)\n",
      "point being considered: (605,0,500)\n",
      "point being considered: (0,0,500)\n",
      "current corners\n",
      "(0,1545,0)\n",
      "(605,0,0)\n",
      "(0,0,500)\n",
      "k_star 2\n",
      "length of t 2\n",
      "run 1\n",
      "ordered_boxes:  [(<__main__.Point object at 0x00000236518C2D90>, (0, 470, 1680, 500)), (<__main__.Point object at 0x00000236518C3C40>, (0, 605, 1075, 500)), (<__main__.Point object at 0x00000236518C3520>, (0, 470, 605, 500))]\n",
      "point being considered: (0,1680,0)\n",
      "point being considered: (605,0,0)\n",
      "point being considered: (470,1075,0)\n",
      "current corners\n",
      "(0,1680,0)\n",
      "(605,0,0)\n",
      "(470,1075,0)\n",
      "run 2\n",
      "point being considered: (0,1680,500)\n",
      "point being considered: (605,0,500)\n",
      "point being considered: (470,1075,500)\n",
      "point being considered: (0,0,500)\n",
      "current corners\n",
      "(0,1680,0)\n",
      "(605,0,0)\n",
      "(470,1075,0)\n",
      "(0,0,500)\n",
      "k_star 2\n",
      "length of t 2\n",
      "run 1\n",
      "ordered_boxes:  [(<__main__.Point object at 0x00000236518C2D90>, (0, 470, 1680, 500)), (<__main__.Point object at 0x00000236518C3C40>, (0, 605, 1075, 500)), (<__main__.Point object at 0x00000236518C3520>, (0, 470, 605, 500))]\n",
      "point being considered: (0,1680,0)\n",
      "point being considered: (605,0,0)\n",
      "point being considered: (470,1075,0)\n",
      "current corners\n",
      "(0,1680,0)\n",
      "(605,0,0)\n",
      "(470,1075,0)\n",
      "run 2\n",
      "point being considered: (0,1680,500)\n",
      "point being considered: (605,0,500)\n",
      "point being considered: (470,1075,500)\n",
      "point being considered: (0,0,500)\n",
      "current corners\n",
      "(0,1680,0)\n",
      "(605,0,0)\n",
      "(470,1075,0)\n",
      "(0,0,500)\n"
     ]
    }
   ],
   "source": [
    "cont_3d = Container.empty([11800, 2340, 2690])\n",
    "\n",
    "# for i in np.arange(num_boxes[0]):\n",
    "#     print(\"run\", i)\n",
    "cargo = Box(0, 0, box_dims[0])\n",
    "cont_3d.find_corners_3d(num_boxes, box_dims)\n",
    "print(\"box 1 added\")\n",
    "cont_3d.place_3d(cont_3d.corner_3d[0], cargo)\n",
    "num_boxes[0] -= 1\n",
    "cont_3d.find_corners_3d(num_boxes, box_dims)\n",
    "print(\"box 2 added\")\n",
    "cont_3d.place_3d(cont_3d.corner_3d[2], cargo)\n",
    "num_boxes[0] -= 1\n",
    "cont_3d.find_corners_3d(num_boxes, box_dims)\n",
    "print(\"box 3 added\")\n",
    "cont_3d.place_3d(cont_3d.corner_3d[2], cargo)\n",
    "num_boxes[0] -= 1\n",
    "cont_3d.find_corners_3d(num_boxes, box_dims)"
   ]
  },
  {
   "cell_type": "code",
   "execution_count": 32,
   "id": "2984107a",
   "metadata": {},
   "outputs": [
    {
     "name": "stdout",
     "output_type": "stream",
     "text": [
      "run 1\n",
      "ordered_boxes:  [(<__main__.Point object at 0x0000013778D6C2B0>, (0, 470, 1815, 500)), (<__main__.Point object at 0x0000013778D4D7C0>, (0, 470, 1210, 500)), (<__main__.Point object at 0x0000013778D4D550>, (0, 470, 605, 500))]\n",
      "point being considered: (0,1815,0)\n",
      "point being considered: (470,0,0)\n",
      "current corners\n",
      "(0,1815,0)\n",
      "(470,0,0)\n",
      "run 2\n",
      "point being considered: (0,1815,500)\n",
      "point being considered: (470,0,500)\n",
      "point being considered: (0,0,500)\n",
      "current corners\n",
      "(0,1815,0)\n",
      "(470,0,0)\n",
      "(0,0,500)\n",
      "printing corners\n",
      "(470,0,0)\n",
      "(0,0,500)\n",
      "(0,1815,0)\n"
     ]
    }
   ],
   "source": [
    "cont_3d.find_corners_3d(num_boxes, box_dims)\n",
    "    \n",
    "print(\"printing corners\")\n",
    "for i in cont_3d.corner_3d:\n",
    "    print(i)"
   ]
  },
  {
   "cell_type": "code",
   "execution_count": 33,
   "id": "8b88fb12",
   "metadata": {},
   "outputs": [
    {
     "data": {
      "text/plain": [
       "[[(<__main__.Point at 0x13778d4d550>, (0, 470, 605, 500))],\n",
       " [(<__main__.Point at 0x13778d4d7c0>, (0, 470, 1210, 500)),\n",
       "  (<__main__.Point at 0x13778d4d550>, (0, 470, 605, 500))],\n",
       " [(<__main__.Point at 0x13778d6c2b0>, (0, 470, 1815, 500)),\n",
       "  (<__main__.Point at 0x13778d4d7c0>, (0, 470, 1210, 500)),\n",
       "  (<__main__.Point at 0x13778d4d550>, (0, 470, 605, 500))],\n",
       " [(<__main__.Point at 0x13778d6c2b0>, (0, 470, 1815, 500)),\n",
       "  (<__main__.Point at 0x13778d4d7c0>, (0, 470, 1210, 500)),\n",
       "  (<__main__.Point at 0x13778d4d550>, (0, 470, 605, 500))]]"
      ]
     },
     "execution_count": 33,
     "metadata": {},
     "output_type": "execute_result"
    }
   ],
   "source": [
    "cont_3d.avail_box_list"
   ]
  },
  {
   "cell_type": "code",
   "execution_count": 112,
   "id": "262f53d6",
   "metadata": {},
   "outputs": [],
   "source": [
    "cont_2d = Container.empty([11800, 2340, 2690])"
   ]
  },
  {
   "cell_type": "code",
   "execution_count": 13,
   "id": "0092c2b2",
   "metadata": {},
   "outputs": [],
   "source": [
    "cargo = Box(0, 0, box_dims[0])\n",
    "cargo.dims\n",
    "cargo1 = Box(0, 0, box_dims[0])"
   ]
  },
  {
   "cell_type": "code",
   "execution_count": null,
   "id": "ef65fbe1",
   "metadata": {},
   "outputs": [],
   "source": []
  },
  {
   "cell_type": "code",
   "execution_count": 23,
   "id": "38455215",
   "metadata": {},
   "outputs": [
    {
     "name": "stdout",
     "output_type": "stream",
     "text": [
      "[<__main__.Point object at 0x0000020C841DF730>, <__main__.Point object at 0x0000020C841E4700>]\n"
     ]
    }
   ],
   "source": [
    "cont_2d.place(Point.two_dim_point(0,0), cargo)\n",
    "\n",
    "cont_2d.box_loc\n",
    "\n",
    "cont_2d.find_corners_2d(num_boxes, box_dims)\n",
    "\n",
    "print(cont_2d.corner)"
   ]
  },
  {
   "cell_type": "code",
   "execution_count": 156,
   "id": "d08c8f1b",
   "metadata": {},
   "outputs": [
    {
     "name": "stdout",
     "output_type": "stream",
     "text": [
      "(0,470,0)\n",
      "(605,0,0)\n"
     ]
    }
   ],
   "source": [
    "for i in cont_2d.corner:\n",
    "    print(i)"
   ]
  },
  {
   "cell_type": "code",
   "execution_count": 157,
   "id": "c42fac2f",
   "metadata": {},
   "outputs": [
    {
     "name": "stdout",
     "output_type": "stream",
     "text": [
      "0\n",
      "1\n",
      "em: [0, 0, 1]\n",
      "m: 2\n",
      "(0,940,0)\n",
      "(605,0,0)\n",
      "(605,470,0)\n"
     ]
    }
   ],
   "source": [
    "cont_2d.place(cont_2d.corner[0], cargo1)\n",
    "cont_2d.find_corners_2d(num_boxes, box_dims)\n",
    "for i in cont_2d.corner:\n",
    "    print(i)"
   ]
  },
  {
   "cell_type": "code",
   "execution_count": 290,
   "id": "b38c4bb8",
   "metadata": {},
   "outputs": [
    {
     "name": "stdout",
     "output_type": "stream",
     "text": [
      "(0,940,0)\n",
      "(1210,0,0)\n",
      "(605,470,0)\n",
      "False\n",
      "False\n",
      "(0,940,0)\n",
      "(1210,0,0)\n",
      "(605,470,0)\n"
     ]
    }
   ],
   "source": [
    "cont_2d.place(cont_2d.corner[1], cargo1)\n",
    "cont_2d.find_corners_2d(num_boxes, box_dims)\n",
    "for i in cont_2d.corner:\n",
    "    print(i)\n",
    "\n",
    "cont_2d.sort_corners()\n",
    "\n",
    "for i in cont_2d.corner:\n",
    "    print(i)"
   ]
  },
  {
   "cell_type": "code",
   "execution_count": 291,
   "id": "7d298bca",
   "metadata": {},
   "outputs": [
    {
     "name": "stdout",
     "output_type": "stream",
     "text": [
      "[<__main__.Point object at 0x000002B8AFACAB20>, <__main__.Point object at 0x000002B8AFACAD90>, <__main__.Point object at 0x000002B8AFABA580>]\n"
     ]
    }
   ],
   "source": [
    "cont_2d.find_corners_2d(num_boxes, box_dims)\n",
    "\n",
    "print(cont_2d.corner)"
   ]
  },
  {
   "cell_type": "code",
   "execution_count": 292,
   "id": "6d1bafb1",
   "metadata": {},
   "outputs": [
    {
     "name": "stdout",
     "output_type": "stream",
     "text": [
      "(0,940,0)\n",
      "(1210,0,0)\n",
      "(605,470,0)\n"
     ]
    }
   ],
   "source": [
    "for i in cont_2d.corner:\n",
    "    print(i)"
   ]
  },
  {
   "cell_type": "code",
   "execution_count": 19,
   "id": "95c3691c",
   "metadata": {},
   "outputs": [
    {
     "name": "stdout",
     "output_type": "stream",
     "text": [
      "(0,0,0)\n"
     ]
    }
   ],
   "source": [
    "cont_test = Container.empty([1, 1, 1])\n",
    "cont_test.find_corners_2d(num_boxes, box_dims)\n",
    "print(cont_test.corner[0])"
   ]
  },
  {
   "cell_type": "code",
   "execution_count": 91,
   "id": "7ebdfd89",
   "metadata": {},
   "outputs": [],
   "source": [
    "cont_2d = Container.empty([11800, 2340, 2690])"
   ]
  },
  {
   "cell_type": "code",
   "execution_count": 92,
   "id": "b6dc0bda",
   "metadata": {},
   "outputs": [
    {
     "name": "stdout",
     "output_type": "stream",
     "text": [
      "val 0\n",
      "val 1 0\n",
      "m: 1\n",
      "m: 1\n",
      "m: 2\n",
      "val 568700\n",
      "val 1 5975475\n",
      "m: 1\n",
      "m, x_bar (1, 605)\n",
      "box_locations {<__main__.Point object at 0x00000181D6AB7550>: (0, 605, 470, 500), <__main__.Point object at 0x00000181D6C11040>: (0, 605, 940, 500), <__main__.Point object at 0x00000181D6AA6E20>: (0, 1210, 470, 500)}\n",
      "m, x_bar (2, 1210)\n",
      "box_locations {<__main__.Point object at 0x00000181D6AB7550>: (0, 605, 470, 500), <__main__.Point object at 0x00000181D6C11040>: (0, 605, 940, 500), <__main__.Point object at 0x00000181D6AA6E20>: (0, 1210, 470, 500)}\n",
      "m: 2\n",
      "m, x_bar (1, 605)\n",
      "box_locations {<__main__.Point object at 0x00000181D6AB7550>: (0, 605, 470, 500), <__main__.Point object at 0x00000181D6C11040>: (0, 605, 940, 500), <__main__.Point object at 0x00000181D6AA6E20>: (0, 1075, 605, 500)}\n",
      "m, x_bar (2, 1075)\n",
      "box_locations {<__main__.Point object at 0x00000181D6AB7550>: (0, 605, 470, 500), <__main__.Point object at 0x00000181D6C11040>: (0, 605, 940, 500), <__main__.Point object at 0x00000181D6AA6E20>: (0, 1075, 605, 500)}\n",
      "m: 2\n",
      "val 6399050\n",
      "val 1 7783475\n",
      "m, x_bar (1, 605)\n",
      "box_locations {<__main__.Point object at 0x00000181D6AB7550>: (0, 605, 470, 500), <__main__.Point object at 0x00000181D6C11040>: (0, 605, 940, 500), <__main__.Point object at 0x00000181D6AA6E20>: (0, 1210, 470, 500)}\n",
      "m, x_bar (2, 1210)\n",
      "box_locations {<__main__.Point object at 0x00000181D6AB7550>: (0, 605, 470, 500), <__main__.Point object at 0x00000181D6C11040>: (0, 605, 940, 500), <__main__.Point object at 0x00000181D6AA6E20>: (0, 1210, 470, 500)}\n",
      "m: 2\n",
      "m: 1\n",
      "m: 2\n",
      "val 1137400\n",
      "val 1 6341500\n",
      "m: 1\n"
     ]
    }
   ],
   "source": [
    "cont_2d.place(Point.two_dim_point(0, 0), cargo)\n",
    "cont_2d.find_corners_2d(num_boxes, box_dims)\n",
    "cont_2d.sort_corners()\n",
    "\n",
    "cont_2d.place(cont_2d.corner[0], cargo)\n",
    "cont_2d.find_corners_2d(num_boxes, box_dims)\n",
    "cont_2d.sort_corners()\n",
    "\n",
    "cont_2d.place(cont_2d.corner[0], cargo)\n",
    "cont_2d.find_corners_2d(num_boxes, box_dims)\n",
    "cont_2d.sort_corners()\n",
    "\n",
    "cont_2d.place(cont_2d.corner[0], cargo)\n",
    "cont_2d.find_corners_2d(num_boxes, box_dims)\n",
    "cont_2d.sort_corners()\n",
    "\n",
    "# cont_2d.place(cont_2d.corner[0], cargo)\n",
    "# cont_2d.find_corners_2d(num_boxes, box_dims)\n",
    "# cont_2d.sort_corners()\n",
    "# cont_2d.place(Point.two_dim_point(605, 470), cargo)\n",
    "# # cont_2d.place(Point.two_dim_point(1210, 470), cargo)"
   ]
  },
  {
   "cell_type": "code",
   "execution_count": 93,
   "id": "c74a2ac1",
   "metadata": {},
   "outputs": [
    {
     "name": "stdout",
     "output_type": "stream",
     "text": [
      "m: 1\n",
      "(0,940,0)\n",
      "(1210,0,0)\n",
      "\n",
      "\n",
      "(0,940,0)\n",
      "(1210,0,0)\n"
     ]
    }
   ],
   "source": [
    "cont_2d.find_corners_2d(num_boxes, box_dims)\n",
    "for i in cont_2d.corner:\n",
    "    print(i)\n",
    "\n",
    "print(\"\\n\")\n",
    "cont_2d.sort_corners()\n",
    "\n",
    "for i in cont_2d.corner:\n",
    "    print(i)\n",
    "    \n"
   ]
  },
  {
   "cell_type": "code",
   "execution_count": 94,
   "id": "e32f4873",
   "metadata": {},
   "outputs": [
    {
     "name": "stdout",
     "output_type": "stream",
     "text": [
      "Corner: (0,0,0)| Box End Location: (0, 605, 470, 500)\n",
      "Corner: (0,470,0)| Box End Location: (0, 605, 940, 500)\n",
      "Corner: (605,0,0)| Box End Location: (0, 1210, 470, 500)\n",
      "Corner: (605,470,0)| Box End Location: (0, 1210, 940, 500)\n"
     ]
    }
   ],
   "source": [
    "for corner, box in cont_2d.box_loc.items():\n",
    "    print(\"Corner: \" + str(corner) + \"| Box End Location: \" + str(box))"
   ]
  },
  {
   "cell_type": "code",
   "execution_count": 214,
   "id": "2e6bc54e",
   "metadata": {},
   "outputs": [
    {
     "name": "stdout",
     "output_type": "stream",
     "text": [
      "<class 'list'>\n"
     ]
    }
   ],
   "source": [
    "print(type(cont_2d.corner))"
   ]
  },
  {
   "cell_type": "code",
   "execution_count": 123,
   "id": "7498afd3",
   "metadata": {},
   "outputs": [
    {
     "data": {
      "text/plain": [
       "[(<__main__.Point at 0x29f7ae2d850>, (0, 605, 1410, 500)),\n",
       " (<__main__.Point at 0x29f7af7b250>, (0, 1210, 940, 500)),\n",
       " (<__main__.Point at 0x29f7ae2d4c0>, (0, 605, 940, 500)),\n",
       " (<__main__.Point at 0x29f7af7b310>, (0, 1815, 470, 500)),\n",
       " (<__main__.Point at 0x29f7ae2d910>, (0, 1210, 470, 500)),\n",
       " (<__main__.Point at 0x29f7ae2da90>, (0, 605, 470, 500))]"
      ]
     },
     "execution_count": 123,
     "metadata": {},
     "output_type": "execute_result"
    }
   ],
   "source": [
    "cont_2d.ordered_box[0]"
   ]
  },
  {
   "cell_type": "code",
   "execution_count": 296,
   "id": "80491bc8",
   "metadata": {},
   "outputs": [
    {
     "data": {
      "text/plain": [
       "array([[0, 1, 2],\n",
       "       [3, 4, 5],\n",
       "       [6, 7, 8]])"
      ]
     },
     "execution_count": 296,
     "metadata": {},
     "output_type": "execute_result"
    }
   ],
   "source": [
    "test = np.arange(9).reshape(3, -1)\n",
    "test"
   ]
  },
  {
   "cell_type": "code",
   "execution_count": 332,
   "id": "df843fce",
   "metadata": {},
   "outputs": [
    {
     "data": {
      "text/plain": [
       "list"
      ]
     },
     "execution_count": 332,
     "metadata": {},
     "output_type": "execute_result"
    }
   ],
   "source": [
    "type(box_dims)"
   ]
  },
  {
   "cell_type": "code",
   "execution_count": 337,
   "id": "9ae31c62",
   "metadata": {},
   "outputs": [
    {
     "data": {
      "text/plain": [
       "array([ 605,  675, 1150])"
      ]
     },
     "execution_count": 337,
     "metadata": {},
     "output_type": "execute_result"
    }
   ],
   "source": [
    "box_dims[:,0]"
   ]
  },
  {
   "cell_type": "code",
   "execution_count": 298,
   "id": "4dd08f6f",
   "metadata": {},
   "outputs": [],
   "source": [
    "arr =[1,0,1]"
   ]
  },
  {
   "cell_type": "code",
   "execution_count": 335,
   "id": "04dc6022",
   "metadata": {},
   "outputs": [
    {
     "data": {
      "text/plain": [
       "array([0, 3, 6])"
      ]
     },
     "execution_count": 335,
     "metadata": {},
     "output_type": "execute_result"
    }
   ],
   "source": [
    "test[:,0]"
   ]
  },
  {
   "cell_type": "code",
   "execution_count": 300,
   "id": "ed426c06",
   "metadata": {},
   "outputs": [
    {
     "data": {
      "text/plain": [
       "array([[0, 1, 2],\n",
       "       [3, 4, 5],\n",
       "       [6, 7, 8]])"
      ]
     },
     "execution_count": 300,
     "metadata": {},
     "output_type": "execute_result"
    }
   ],
   "source": [
    "test"
   ]
  },
  {
   "cell_type": "code",
   "execution_count": 301,
   "id": "77c484b6",
   "metadata": {},
   "outputs": [
    {
     "data": {
      "text/plain": [
       "array([], dtype=int32)"
      ]
     },
     "execution_count": 301,
     "metadata": {},
     "output_type": "execute_result"
    }
   ],
   "source": [
    "np.arange(2,2)"
   ]
  },
  {
   "cell_type": "code",
   "execution_count": 36,
   "id": "c8c64cf2",
   "metadata": {},
   "outputs": [
    {
     "data": {
      "text/plain": [
       "{<__main__.Point at 0x1e710d37430>: (0, 470, 605, 500)}"
      ]
     },
     "execution_count": 36,
     "metadata": {},
     "output_type": "execute_result"
    }
   ],
   "source": [
    "cont_3d.box_loc"
   ]
  },
  {
   "cell_type": "code",
   "execution_count": 73,
   "id": "369e6d88",
   "metadata": {},
   "outputs": [
    {
     "name": "stdout",
     "output_type": "stream",
     "text": [
      "val 0\n",
      "val 1 0\n"
     ]
    }
   ],
   "source": []
  },
  {
   "cell_type": "code",
   "execution_count": 74,
   "id": "5b563eec",
   "metadata": {},
   "outputs": [
    {
     "name": "stdout",
     "output_type": "stream",
     "text": [
      "T_sorted [0, 500]\n",
      "run 1\n",
      "i[1][3]:  500\n",
      "Ik [(<__main__.Point object at 0x000001E710D7CA90>, (0, 470, 605, 500))]\n",
      "ordered_boxes:  [(<__main__.Point object at 0x000001E710D7CA90>, (0, 470, 605, 500))]\n"
     ]
    },
    {
     "ename": "IndexError",
     "evalue": "list index out of range",
     "output_type": "error",
     "traceback": [
      "\u001b[1;31m---------------------------------------------------------------------------\u001b[0m",
      "\u001b[1;31mIndexError\u001b[0m                                Traceback (most recent call last)",
      "\u001b[1;32m~\\AppData\\Local\\Temp/ipykernel_13172/4116049099.py\u001b[0m in \u001b[0;36m<module>\u001b[1;34m\u001b[0m\n\u001b[1;32m----> 1\u001b[1;33m \u001b[0mcont_3d\u001b[0m\u001b[1;33m.\u001b[0m\u001b[0mfind_corners_3d\u001b[0m\u001b[1;33m(\u001b[0m\u001b[0mnum_boxes\u001b[0m\u001b[1;33m,\u001b[0m \u001b[0mbox_dims\u001b[0m\u001b[1;33m)\u001b[0m\u001b[1;33m\u001b[0m\u001b[1;33m\u001b[0m\u001b[0m\n\u001b[0m",
      "\u001b[1;32m~\\AppData\\Local\\Temp/ipykernel_13172/1237853237.py\u001b[0m in \u001b[0;36mfind_corners_3d\u001b[1;34m(self, box_list, box_dims)\u001b[0m\n\u001b[0;32m    210\u001b[0m         \u001b[0mk\u001b[0m \u001b[1;33m=\u001b[0m \u001b[1;36m1\u001b[0m\u001b[1;33m\u001b[0m\u001b[1;33m\u001b[0m\u001b[0m\n\u001b[0;32m    211\u001b[0m         \u001b[0mr\u001b[0m \u001b[1;33m=\u001b[0m \u001b[0mlen\u001b[0m\u001b[1;33m(\u001b[0m\u001b[0mT_sorted\u001b[0m\u001b[1;33m)\u001b[0m\u001b[1;33m\u001b[0m\u001b[1;33m\u001b[0m\u001b[0m\n\u001b[1;32m--> 212\u001b[1;33m         \u001b[1;32mwhile\u001b[0m\u001b[1;33m(\u001b[0m\u001b[0mk\u001b[0m \u001b[1;33m<=\u001b[0m \u001b[0mr\u001b[0m\u001b[1;33m)\u001b[0m \u001b[1;32mand\u001b[0m \u001b[1;33m(\u001b[0m\u001b[0mT_sorted\u001b[0m\u001b[1;33m[\u001b[0m\u001b[0mk\u001b[0m\u001b[1;33m]\u001b[0m \u001b[1;33m+\u001b[0m \u001b[0mmin\u001b[0m\u001b[1;33m(\u001b[0m\u001b[0mz_avail\u001b[0m\u001b[1;33m)\u001b[0m \u001b[1;33m<=\u001b[0m \u001b[0mself\u001b[0m\u001b[1;33m.\u001b[0m\u001b[0mdimension\u001b[0m\u001b[1;33m[\u001b[0m\u001b[1;36m2\u001b[0m\u001b[1;33m]\u001b[0m\u001b[1;33m)\u001b[0m\u001b[1;33m:\u001b[0m\u001b[1;33m\u001b[0m\u001b[1;33m\u001b[0m\u001b[0m\n\u001b[0m\u001b[0;32m    213\u001b[0m             \u001b[0mIk\u001b[0m \u001b[1;33m=\u001b[0m \u001b[1;33m[\u001b[0m\u001b[1;33m]\u001b[0m\u001b[1;33m\u001b[0m\u001b[1;33m\u001b[0m\u001b[0m\n\u001b[0;32m    214\u001b[0m             \u001b[0mprint\u001b[0m\u001b[1;33m(\u001b[0m\u001b[1;34m\"run\"\u001b[0m\u001b[1;33m,\u001b[0m \u001b[0mk\u001b[0m\u001b[1;33m)\u001b[0m\u001b[1;33m\u001b[0m\u001b[1;33m\u001b[0m\u001b[0m\n",
      "\u001b[1;31mIndexError\u001b[0m: list index out of range"
     ]
    }
   ],
   "source": []
  },
  {
   "cell_type": "code",
   "execution_count": 70,
   "id": "7ed14d62",
   "metadata": {},
   "outputs": [
    {
     "name": "stdout",
     "output_type": "stream",
     "text": [
      "(0,605,0)\n",
      "(470,0,0)\n"
     ]
    }
   ],
   "source": []
  },
  {
   "cell_type": "code",
   "execution_count": 47,
   "id": "18b1438f",
   "metadata": {},
   "outputs": [
    {
     "data": {
      "text/plain": [
       "array([17.,  0.,  0.])"
      ]
     },
     "execution_count": 47,
     "metadata": {},
     "output_type": "execute_result"
    }
   ],
   "source": [
    "num_boxes"
   ]
  },
  {
   "cell_type": "code",
   "execution_count": 365,
   "id": "4203f472",
   "metadata": {},
   "outputs": [
    {
     "name": "stdout",
     "output_type": "stream",
     "text": [
      "(19360,0,0)\n",
      "(19360,940,0)\n"
     ]
    }
   ],
   "source": [
    "for i in cont_2d.corner:\n",
    "    print(i)"
   ]
  },
  {
   "cell_type": "code",
   "execution_count": 424,
   "id": "1805de3f",
   "metadata": {},
   "outputs": [
    {
     "data": {
      "text/plain": [
       "array([ 54., 176.,  77.])"
      ]
     },
     "execution_count": 424,
     "metadata": {},
     "output_type": "execute_result"
    }
   ],
   "source": [
    "num_boxes"
   ]
  },
  {
   "cell_type": "code",
   "execution_count": 18,
   "id": "ea5a8bf3",
   "metadata": {},
   "outputs": [],
   "source": [
    "testpt1 = Point(1,2,3)\n",
    "testpt2 = Point(1,2,4)\n",
    "testpt3 = Point(1,3,3)"
   ]
  },
  {
   "cell_type": "code",
   "execution_count": 188,
   "id": "0b5dbb38",
   "metadata": {},
   "outputs": [],
   "source": [
    "space_occupancy = .05"
   ]
  },
  {
   "cell_type": "code",
   "execution_count": 189,
   "id": "edbd355a",
   "metadata": {},
   "outputs": [
    {
     "ename": "NameError",
     "evalue": "name 'testpt1' is not defined",
     "output_type": "error",
     "traceback": [
      "\u001b[1;31m---------------------------------------------------------------------------\u001b[0m",
      "\u001b[1;31mNameError\u001b[0m                                 Traceback (most recent call last)",
      "\u001b[1;32m~\\AppData\\Local\\Temp/ipykernel_15320/27846428.py\u001b[0m in \u001b[0;36m<module>\u001b[1;34m\u001b[0m\n\u001b[1;32m----> 1\u001b[1;33m \u001b[0mtestpt1\u001b[0m \u001b[1;33m==\u001b[0m \u001b[0mtestpt2\u001b[0m\u001b[1;33m\u001b[0m\u001b[1;33m\u001b[0m\u001b[0m\n\u001b[0m",
      "\u001b[1;31mNameError\u001b[0m: name 'testpt1' is not defined"
     ]
    }
   ],
   "source": [
    "testpt1 == testpt2"
   ]
  },
  {
   "cell_type": "code",
   "execution_count": 277,
   "id": "e9a05d81",
   "metadata": {},
   "outputs": [
    {
     "data": {
      "text/plain": [
       "array([  0.,   0., 193.])"
      ]
     },
     "execution_count": 277,
     "metadata": {},
     "output_type": "execute_result"
    }
   ],
   "source": [
    "num_boxes = cargo_count()\n",
    "num_boxes"
   ]
  },
  {
   "cell_type": "code",
   "execution_count": 204,
   "id": "32f94c4c",
   "metadata": {},
   "outputs": [
    {
     "name": "stdout",
     "output_type": "stream",
     "text": [
      "[<__main__.Point object at 0x000001E710D7CBE0>]\n",
      "[<__main__.Point object at 0x000001E710D7C3A0>, <__main__.Point object at 0x000001E710D7C280>]\n",
      "[<__main__.Point object at 0x000001E710D7C280>, <__main__.Point object at 0x000001E710D7CA60>]\n",
      "[<__main__.Point object at 0x000001E710D46C10>, <__main__.Point object at 0x000001E710D7C2B0>, <__main__.Point object at 0x000001E710D7CA60>]\n",
      "[<__main__.Point object at 0x000001E710D7CA60>, <__main__.Point object at 0x000001E710D7C2B0>]\n",
      "[<__main__.Point object at 0x000001E710D46EB0>, <__main__.Point object at 0x000001E710D7C2B0>, <__main__.Point object at 0x000001E710D46250>]\n",
      "[<__main__.Point object at 0x000001E710D7C2B0>, <__main__.Point object at 0x000001E710D7C700>, <__main__.Point object at 0x000001E710D46250>, <__main__.Point object at 0x000001E710D7C940>]\n",
      "[<__main__.Point object at 0x000001E710D46FD0>, <__main__.Point object at 0x000001E710D46E80>, <__main__.Point object at 0x000001E710D46250>, <__main__.Point object at 0x000001E710D7C700>, <__main__.Point object at 0x000001E710D7C940>]\n",
      "[<__main__.Point object at 0x000001E710D46E80>, <__main__.Point object at 0x000001E710D46580>, <__main__.Point object at 0x000001E710D7C700>, <__main__.Point object at 0x000001E710D7C940>]\n",
      "[<__main__.Point object at 0x000001E710D46C70>, <__main__.Point object at 0x000001E710D7C700>, <__main__.Point object at 0x000001E710D46A00>, <__main__.Point object at 0x000001E710D7C940>]\n",
      "[<__main__.Point object at 0x000001E710D7C700>, <__main__.Point object at 0x000001E710D46BE0>, <__main__.Point object at 0x000001E710D7C940>]\n",
      "[<__main__.Point object at 0x000001E710D46250>, <__main__.Point object at 0x000001E710D46A00>, <__main__.Point object at 0x000001E710D46610>]\n",
      "[<__main__.Point object at 0x000001E710D46610>, <__main__.Point object at 0x000001E710D46130>, <__main__.Point object at 0x000001E710D469D0>]\n"
     ]
    }
   ],
   "source": [
    "cont_2d = Container.empty([11800, 2340, 2690])\n",
    "cont_2d.find_corners_2d(num_boxes, box_dims)\n",
    "for i in np.arange(num_boxes[0]):\n",
    "    cargo = Box(0, 0, box_dims[0])\n",
    "    print(cont_2d.corner)\n",
    "    cont_2d.place(cont_2d.corner[0], cargo)\n",
    "    cont_2d.find_corners_2d(num_boxes, box_dims)\n",
    "    cont_2d.sort_corners()\n",
    "    num_boxes[0] -= 1\n",
    "\n",
    "for i in np.arange(num_boxes[1]):\n",
    "    cargo = Box(1, 0, box_dims[1])\n",
    "    cont_2d.place(cont_2d.corner[0], cargo)\n",
    "    cont_2d.find_corners_2d(num_boxes, box_dims)\n",
    "    cont_2d.sort_corners()\n",
    "    num_boxes[1] -= 1\n",
    "    \n",
    "for i in np.arange(num_boxes[2]):\n",
    "    cargo = Box(2, 0, box_dims[2])\n",
    "    cont_2d.place(cont_2d.corner[0], cargo)\n",
    "    cont_2d.find_corners_2d(num_boxes, box_dims)\n",
    "    cont_2d.sort_corners()\n",
    "    num_boxes[2] -= 1"
   ]
  },
  {
   "cell_type": "code",
   "execution_count": 205,
   "id": "8282e54b",
   "metadata": {},
   "outputs": [
    {
     "name": "stdout",
     "output_type": "stream",
     "text": [
      "Corner: (0,0,0)| Box Location: (0, 470, 605, 500)\n",
      "Corner: (470,0,0)| Box Location: (0, 940, 605, 500)\n",
      "Corner: (0,605,0)| Box Location: (0, 605, 1075, 500)\n",
      "Corner: (605,605,0)| Box Location: (0, 1075, 1210, 500)\n",
      "Corner: (1075,0,0)| Box Location: (0, 1680, 470, 500)\n",
      "Corner: (1075,470,0)| Box Location: (0, 1545, 1075, 500)\n",
      "Corner: (0,1210,0)| Box Location: (0, 605, 1680, 500)\n",
      "Corner: (605,1210,0)| Box Location: (0, 1210, 1680, 500)\n",
      "Corner: (1545,470,0)| Box Location: (0, 2150, 940, 500)\n",
      "Corner: (1210,1075,0)| Box Location: (0, 1680, 1680, 500)\n",
      "Corner: (0,1680,0)| Box Location: (0, 605, 2150, 500)\n",
      "Corner: (605,1680,0)| Box Location: (0, 1210, 2150, 500)\n",
      "Corner: (1680,940,0)| Box Location: (0, 2285, 1410, 500)\n",
      "Corner: (1210,1680,0)| Box Location: (1, 1885, 2170, 510)\n",
      "Corner: (2285,0,0)| Box Location: (1, 2960, 490, 510)\n",
      "Corner: (2285,490,0)| Box Location: (1, 2775, 1165, 510)\n",
      "Corner: (1885,1410,0)| Box Location: (1, 2560, 1900, 510)\n",
      "Corner: (1885,1900,0)| Box Location: (1, 2375, 2575, 510)\n",
      "Corner: (2560,1165,0)| Box Location: (1, 3235, 1655, 510)\n",
      "Corner: (2375,1900,0)| Box Location: (1, 3050, 2390, 510)\n",
      "Corner: (3235,0,0)| Box Location: (1, 3910, 490, 510)\n",
      "Corner: (3235,490,0)| Box Location: (2, 3525, 1640, 230)\n",
      "Corner: (3525,490,0)| Box Location: (2, 3815, 1640, 230)\n",
      "Corner: (3815,490,0)| Box Location: (2, 4965, 780, 230)\n",
      "Corner: (3050,1655,0)| Box Location: (2, 4200, 1945, 230)\n"
     ]
    }
   ],
   "source": [
    "for corner, box in cont_2d.box_loc.items():\n",
    "    print(\"Corner: \" + str(corner) + \"| Box Location: \" + str(box))"
   ]
  },
  {
   "cell_type": "code",
   "execution_count": 280,
   "id": "e5a3fd6e",
   "metadata": {},
   "outputs": [
    {
     "data": {
      "text/plain": [
       "27612000"
      ]
     },
     "execution_count": 280,
     "metadata": {},
     "output_type": "execute_result"
    }
   ],
   "source": [
    "container_dim[0] * container_dim[1]"
   ]
  },
  {
   "cell_type": "code",
   "execution_count": 284,
   "id": "2c89c780",
   "metadata": {},
   "outputs": [
    {
     "data": {
      "text/plain": [
       "0.7729972475735187"
      ]
     },
     "execution_count": 284,
     "metadata": {},
     "output_type": "execute_result"
    }
   ],
   "source": [
    "21344000/27612000"
   ]
  },
  {
   "cell_type": "code",
   "execution_count": 282,
   "id": "7714e441",
   "metadata": {},
   "outputs": [
    {
     "data": {
      "text/plain": [
       "array([  0.,   0., 129.])"
      ]
     },
     "execution_count": 282,
     "metadata": {},
     "output_type": "execute_result"
    }
   ],
   "source": [
    "num_boxes"
   ]
  },
  {
   "cell_type": "code",
   "execution_count": 164,
   "id": "166924f7",
   "metadata": {},
   "outputs": [
    {
     "data": {
      "text/plain": [
       "78"
      ]
     },
     "execution_count": 164,
     "metadata": {},
     "output_type": "execute_result"
    }
   ],
   "source": [
    "261-183"
   ]
  },
  {
   "cell_type": "code",
   "execution_count": 283,
   "id": "158aaf69",
   "metadata": {},
   "outputs": [
    {
     "data": {
      "text/plain": [
       "21344000"
      ]
     },
     "execution_count": 283,
     "metadata": {},
     "output_type": "execute_result"
    }
   ],
   "source": [
    "0*box_dims[0][0] * box_dims[0][1] + 0 * box_dims[1][0] * box_dims[1][1] + 64 * box_dims[2][0] * box_dims[2][1]"
   ]
  },
  {
   "cell_type": "code",
   "execution_count": 77,
   "id": "2379f9a6",
   "metadata": {},
   "outputs": [
    {
     "name": "stdout",
     "output_type": "stream",
     "text": [
      "1 [470 605 500]\n",
      "2 [470 605 500]\n",
      "3 [605 605 500]\n",
      "4 [605 470 500]\n",
      "1 [605 470 500]\n",
      "2 [605 470 500]\n",
      "3 [470 470 500]\n",
      "4 [470 605 500]\n"
     ]
    },
    {
     "data": {
      "text/plain": [
       "0"
      ]
     },
     "execution_count": 77,
     "metadata": {},
     "output_type": "execute_result"
    }
   ],
   "source": [
    "cargo.flip()\n",
    "cargo.dims\n",
    "cargo.flip()\n",
    "cargo.btype"
   ]
  },
  {
   "cell_type": "code",
   "execution_count": 71,
   "id": "9b05cfd4",
   "metadata": {},
   "outputs": [
    {
     "data": {
      "text/plain": [
       "<__main__.Box at 0x1b5476c5b20>"
      ]
     },
     "execution_count": 71,
     "metadata": {},
     "output_type": "execute_result"
    }
   ],
   "source": [
    "cargo"
   ]
  },
  {
   "cell_type": "code",
   "execution_count": 25,
   "id": "3de34099",
   "metadata": {},
   "outputs": [
    {
     "data": {
      "text/plain": [
       "True"
      ]
     },
     "execution_count": 25,
     "metadata": {},
     "output_type": "execute_result"
    }
   ],
   "source": [
    "testpt3 not in [testpt2, testpt2]"
   ]
  },
  {
   "cell_type": "markdown",
   "id": "283e72c1",
   "metadata": {},
   "source": [
    "corner <- associated box type"
   ]
  },
  {
   "cell_type": "markdown",
   "id": "a7f37dea",
   "metadata": {},
   "source": [
    "[{corner(Point): (box_type, end_x, end_y, end_z)}, {corner(Point): (box_type, end_x, end_y, end_z)}, {corner(Point): (box_type, end_x, end_y, end_z)}, {corner(Point): (box_type, end_x, end_y, end_z)}, {corner(Point): (box_type, end_x, end_y, end_z)}]\n",
    "\n",
    "0: [100, 200, 100]\n",
    "0b: [200, 100, 100]\n",
    "\n",
    "(0, 100, 0): (100, 200, 100)"
   ]
  }
 ],
 "metadata": {
  "kernelspec": {
   "display_name": "Python 3 (ipykernel)",
   "language": "python",
   "name": "python3"
  },
  "language_info": {
   "codemirror_mode": {
    "name": "ipython",
    "version": 3
   },
   "file_extension": ".py",
   "mimetype": "text/x-python",
   "name": "python",
   "nbconvert_exporter": "python",
   "pygments_lexer": "ipython3",
   "version": "3.9.7"
  }
 },
 "nbformat": 4,
 "nbformat_minor": 5
}
