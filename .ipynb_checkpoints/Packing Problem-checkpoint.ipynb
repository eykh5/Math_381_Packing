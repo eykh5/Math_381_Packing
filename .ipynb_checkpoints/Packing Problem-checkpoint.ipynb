{
 "cells": [
  {
   "cell_type": "code",
   "execution_count": 4,
   "id": "baea9357",
   "metadata": {},
   "outputs": [],
   "source": [
    "import numpy as np\n",
    "import pandas as pd\n",
    "import matplotlib.pyplot as plt\n",
    "from multipledispatch import dispatch"
   ]
  },
  {
   "cell_type": "code",
   "execution_count": 17,
   "id": "a294b5f6",
   "metadata": {},
   "outputs": [],
   "source": [
    "pkg_cnt = [1000, 1000, 1000]\n",
    "cargo_distribution = [1, 0, 0]\n",
    "weight = [43, 48, 7.1]\n",
    "\n",
    "container_dim = [11800, 2340, 2690]\n",
    "volume = np.prod(container_dim, dtype = \"double\")\n",
    "weight_limit = 22_000\n",
    "\n",
    "space_occupancy = .20\n",
    "\n",
    "c1_dim1 = [605, 470, 500]\n",
    "c1_dim2 = [470, 605, 500]\n",
    "c1_vol = np.prod(c1_dim1)\n",
    "c2_dim1 = [675, 490, 510]\n",
    "c2_dim2 = [490, 675, 510]\n",
    "c2_vol = np.prod(c2_dim1)\n",
    "c3_dim1 = [1150, 290, 230]\n",
    "c3_dim2 = [290, 1150, 230]\n",
    "c3_vol = np.prod(c3_dim1)\n",
    "\n",
    "box_dims = np.array([c1_dim1, c2_dim1, c3_dim1])"
   ]
  },
  {
   "cell_type": "code",
   "execution_count": 18,
   "id": "686fa0d0",
   "metadata": {},
   "outputs": [],
   "source": [
    "def vol_limit(container_dim = container_dim, cont_dims = container_dim, c1_dim1 = c1_dim1, c2_dim2 = c2_dim2, c3_dim1 = c3_dim1, occupancy = .9,\n",
    "             weight_limit = 22_000):\n",
    "    pkg_cnt = cargo_count()\n",
    "#     for j in np.arange(np.sum(pkg_cnt)):\n",
    "    return pkg_cnt"
   ]
  },
  {
   "cell_type": "code",
   "execution_count": 19,
   "id": "8f712336",
   "metadata": {},
   "outputs": [],
   "source": [
    "def cargo_count(container_dim = container_dim, box_dims = box_dims, occupancy = space_occupancy,\n",
    "               cargo_distribution = cargo_distribution):\n",
    "    cont_vol = np.prod(container_dim, dtype = \"double\")\n",
    "    volumes = list()\n",
    "    for box in box_dims:\n",
    "        volumes.append(np.prod(box))\n",
    "    cont_vol_occ = cont_vol * occupancy\n",
    "    vol_allocation = np.array(cargo_distribution) * cont_vol_occ\n",
    "    cargo_count = np.divide(vol_allocation, volumes)\n",
    "    return np.trunc(cargo_count)"
   ]
  },
  {
   "cell_type": "code",
   "execution_count": 20,
   "id": "c5a90592",
   "metadata": {},
   "outputs": [
    {
     "data": {
      "text/plain": [
       "array([104.,   0.,   0.])"
      ]
     },
     "execution_count": 20,
     "metadata": {},
     "output_type": "execute_result"
    }
   ],
   "source": [
    "num_boxes = cargo_count()\n",
    "num_boxes"
   ]
  },
  {
   "cell_type": "code",
   "execution_count": 21,
   "id": "59eaed05",
   "metadata": {},
   "outputs": [],
   "source": [
    "class Point():\n",
    "    def __init__(self, x, y, z):\n",
    "        self.x = x\n",
    "        self.y = y\n",
    "        self.z = z\n",
    "        \n",
    "    @classmethod\n",
    "    def two_dim_point(cls, x, y):\n",
    "        return cls(x, y, 0)\n",
    "    \n",
    "    def __str__(self):\n",
    "        return \"(\" + str(self.x) + \",\" + str(self.y) + \",\" + str(self.z) + \")\"\n",
    "    \n",
    "    def __gt__(self, Point2):\n",
    "        return np.linalg.norm([self.x, self.y, self.z]) > np.linalg.norm([Point2.x, Point2.y, Point2.z])\n",
    "    \n",
    "#     def __eq__(self, Point2):\n",
    "#         return ((self.x == Point2.x) and (self.y == Point2.y))\n",
    "    "
   ]
  },
  {
   "cell_type": "code",
   "execution_count": 22,
   "id": "fe6f2384",
   "metadata": {},
   "outputs": [],
   "source": [
    "class Box():\n",
    "    def __init__(self, btype, orientation, dims):\n",
    "        self.btype = btype\n",
    "        if orientation == 1:\n",
    "            hold = dims[0]\n",
    "            dims[0] = dims[1]\n",
    "            dims[1] = hold\n",
    "        self.orientation = orientation\n",
    "        self.dims = dims\n",
    "        \n",
    "    def flip(self):\n",
    "        hold = self.dims[0]\n",
    "        self.dims[0] = self.dims[1]\n",
    "        self.dims[1] = hold"
   ]
  },
  {
   "cell_type": "code",
   "execution_count": 32,
   "id": "dc45b80a",
   "metadata": {},
   "outputs": [],
   "source": [
    "# corner: list of corner points. (Use Point object defined above)\n",
    "# space: No clue. It's just there. Don't question it.\n",
    "# box_count: number of boxes in container.\n",
    "# location of boxes: Set as \n",
    "\n",
    "class Container(object):\n",
    "    def __init__(self, corner, space, box_count, box_loc, dimension):\n",
    "        self.corner = corner\n",
    "        self.space = space\n",
    "        self.box_count = box_count\n",
    "        self.box_loc = box_loc\n",
    "        self.dimension = dimension\n",
    "        self.ordered_box = []\n",
    "        self.corner_3d = []\n",
    "        self.corner_3d_prev = []\n",
    "        self.Ik = []\n",
    "        \n",
    "    @classmethod\n",
    "    def empty(cls, dimension):\n",
    "        return cls([], 0, 0, {}, dimension)\n",
    "    \n",
    "    # box_type: the box number of the box_type you are placing in box\n",
    "    # orientation: orientation number corresponding to the following convention:\n",
    "        # 0: (L, W, H) Note: This is the original input sequence.\n",
    "        # 1: (W, L, H)\n",
    "    # corner: An item of Point class with field values set for the x, y, and z values.\n",
    "    # dims: A list with the dimension of boxes. \n",
    "    # cargo: box object\n",
    "    \n",
    "    #This class method acts to \"place\" a box in the container.    \n",
    "    def place(self, corner, cargo, box_list = num_boxes, box_dims = box_dims):\n",
    "        \n",
    "        dictionary = self.box_loc.items()\n",
    "        \n",
    "        val = -1\n",
    "        \n",
    "#         print(\"before inputting box\", self.box_loc)\n",
    "        \n",
    "        self.box_loc[corner] = (cargo.btype, corner.x + cargo.dims[0], corner.y + cargo.dims[1], \n",
    "                           corner.z + cargo.dims[2])\n",
    "        \n",
    "        self.find_corners_2d(box_list, box_dims)\n",
    "        \n",
    "        val = self.eval_2d()\n",
    "        \n",
    "        self.box_loc.pop(corner, None)\n",
    "        \n",
    "#         print(\"after popping box\")\n",
    "        \n",
    "        cargo.flip()\n",
    "        \n",
    "        self.box_loc[corner] = (cargo.btype, corner.x + cargo.dims[0], corner.y + cargo.dims[1], \n",
    "                                corner.z + cargo.dims[2])\n",
    "        \n",
    "        self.find_corners_2d(box_list, box_dims)\n",
    "        \n",
    "        val1 = self.eval_2d()\n",
    "        \n",
    "        self.box_loc.pop(corner, None)\n",
    "        \n",
    "        print(\"val\", val)\n",
    "        print(\"val 1\", val1)\n",
    "        \n",
    "        \n",
    "        if (val1 > val):\n",
    "            cargo.flip()\n",
    "        \n",
    "        self.box_loc[corner] = (cargo.btype, corner.x + cargo.dims[0], corner.y + cargo.dims[1], \n",
    "                                corner.z + cargo.dims[2])\n",
    "        self.box_count += 1\n",
    "        \n",
    "\n",
    "    \n",
    "    def order_boxes(self):\n",
    "        pairs = self.box_loc.items()\n",
    "        \n",
    "        return sorted(pairs, key = lambda x: (x[1][2], x[1][1]), reverse = True)\n",
    "    \n",
    "    def set_corner(self, point):\n",
    "        self.corner.append(point)\n",
    "            \n",
    "        \n",
    "    # box_list: List of boxes not yet added to container\n",
    "    \n",
    "    def sort_corners(self):\n",
    "        return self.corner.sort()\n",
    "    \n",
    "    @dispatch(np.ndarray, np.ndarray)\n",
    "    def find_corners_2d(self, box_list, box_dims):\n",
    "        self.corner = []\n",
    "        if self.box_count == 0:\n",
    "            self.corner.append(Point.two_dim_point(0, 0))\n",
    "            return\n",
    "        #Phase 1: Identify Extreme Points.\n",
    "        \n",
    "        x_bar = 0\n",
    "        m = 0\n",
    "        em = list()\n",
    "        em.append(0)\n",
    "        ordered_boxes = self.order_boxes()\n",
    "        self.ordered_box = ordered_boxes\n",
    "        \n",
    "        for index, value in enumerate(ordered_boxes):\n",
    "            corner, b_data = value\n",
    "            btype, x, y, z = b_data\n",
    "            if x > x_bar:\n",
    "                m += 1\n",
    "                em.append(index)\n",
    "                x_bar = x\n",
    "        # Phase 2: Find Corner Points\n",
    "        self.corner.append(Point.two_dim_point(0, ordered_boxes[0][1][2]))\n",
    "        self.corner.append(Point.two_dim_point(ordered_boxes[em[m]][1][1], 0))\n",
    "        for j in np.arange(2, m+1):\n",
    "            self.corner.append(Point.two_dim_point(ordered_boxes[em[j-1]][1][1], ordered_boxes[em[j]][1][2]))\n",
    "            \n",
    "        # Phase 3: Remove redundant/infeasible corner points:\n",
    "        pres = []\n",
    "        for i in np.arange(len(box_list)):\n",
    "            if box_list[i] != 0:\n",
    "                pres.append(box_dims[i])\n",
    "        pres = np.array(pres)\n",
    "        x_avail = pres[:, 0]\n",
    "        y_avail = pres[:, 1]\n",
    "        to_be_removed = []\n",
    "        \n",
    "        for corn in self.corner:\n",
    "            if (corn.x + min(x_avail) > self.dimension[0]) or (corn.y + min(y_avail) > self.dimension[1]):\n",
    "                to_be_removed.append(corn)\n",
    "        self.corner = [e for e in self.corner if e not in to_be_removed]\n",
    "        \n",
    "    def eval_2d(self):\n",
    "        if(len(self.corner) > 0):\n",
    "            sum = self.corner[0].x*self.dimension[1]\n",
    "            for i in np.arange(1, len(self.corner)):\n",
    "                sum+= (self.corner[i].x - self.corner[i - 1].x) * self.corner[i - 1].y\n",
    "            sum += + (self.dimension[0] - self.corner[len(self.corner) -1].x) * self.corner[len(self.corner) -1].y\n",
    "            return sum\n",
    "        if(len(self.corner) == 1):\n",
    "            return self.dimension[0] * self.dimension[1]\n",
    "\n",
    "\n",
    "    @dispatch(np.ndarray, np.ndarray, list)\n",
    "    def find_corners_2d(self, box_list, box_dims, available_boxes):\n",
    "        self.corner = []\n",
    "        if self.box_count == 0:\n",
    "            self.corner.append(Point.two_dim_point(0, 0))\n",
    "            return\n",
    "        #Phase 1: Identify Extreme Points.\n",
    "        \n",
    "        x_bar = 0\n",
    "        m = 0\n",
    "        em = list()\n",
    "        em.append(0)\n",
    "        ordered_boxes = sorted(available_boxes, key = lambda x: (x[1][2], x[1][1]), reverse = True)\n",
    "        \n",
    "        for index, value in enumerate(ordered_boxes):\n",
    "            corner, b_data = value\n",
    "            btype, x, y, z = b_data\n",
    "            if x > x_bar:\n",
    "                m += 1\n",
    "                em.append(index)\n",
    "                x_bar = x\n",
    "        # Phase 2: Find Corner Points\n",
    "        print(\"ordered_boxes: \", ordered_boxes)\n",
    "        self.corner.append(Point.two_dim_point(0, ordered_boxes[0][1][2]))\n",
    "        self.corner.append(Point.two_dim_point(ordered_boxes[em[m]][1][1], 0))\n",
    "        for j in np.arange(2, m+1):\n",
    "            self.corner.append(Point.two_dim_point(ordered_boxes[em[j-1]][1][1], ordered_boxes[em[j]][1][2]))\n",
    "            \n",
    "        # Phase 3: Remove redundant/infeasible corner points:\n",
    "        pres = []\n",
    "        for i in np.arange(len(box_list)):\n",
    "            if box_list[i] != 0:\n",
    "                pres.append(box_dims[i])\n",
    "        pres = np.array(pres)\n",
    "        x_avail = pres[:, 0]\n",
    "        y_avail = pres[:, 1]\n",
    "        to_be_removed = []\n",
    "        \n",
    "        for corn in self.corner:\n",
    "            if (corn.x + min(x_avail) > self.dimension[0]) or (corn.y + min(y_avail) > self.dimension[1]):\n",
    "                to_be_removed.append(corn)\n",
    "        self.corner = [e for e in self.corner if e not in to_be_removed]\n",
    "\n",
    "    \n",
    "    \n",
    "# Find 3d Corners:\n",
    "\n",
    "    def find_corners_3d(self, box_list, box_dims):\n",
    "        self.corner_3d = []\n",
    "        if self.box_count == 0:\n",
    "            self.corner_3d.append(Point(0, 0, 0))\n",
    "            return\n",
    "        ordered_boxes = self.order_boxes()\n",
    "        self.ordered_box = ordered_boxes\n",
    "        T = set()\n",
    "        for index, value in enumerate(ordered_boxes):\n",
    "            corner, b_data = value\n",
    "            btype, x, y, z = b_data\n",
    "            T.add(z)\n",
    "        present = []\n",
    "        for i in np.arange(len(box_list)):\n",
    "            if box_list[i] != 0:\n",
    "                present.append(box_dims[i])\n",
    "        T_sorted = sorted(T)\n",
    "        present = np.array(present)\n",
    "        z_avail = present[:, 2]\n",
    "        k = 0\n",
    "        r = len(T_sorted)\n",
    "        while(k < r) and (T_sorted[k] + min(z_avail) <= self.dimension[2]):\n",
    "            Ik = []\n",
    "            for i in ordered_boxes:\n",
    "                print(\"i[1][3]: \", i[1][3])\n",
    "                if(i[1][3] > T_sorted[k]):\n",
    "                    Ik.append(i)\n",
    "            self.find_corners_2d(box_list, box_dims, Ik)\n",
    "            \n",
    "            for pt in self.corner:\n",
    "                if (pt not in self.corner_3d_prev):\n",
    "                    self.corner_3d.append(pt)\n",
    "            kstar = k\n",
    "            k = k + 1"
   ]
  },
  {
   "cell_type": "markdown",
   "id": "89c4e9ec",
   "metadata": {},
   "source": [
    "# Testing"
   ]
  },
  {
   "cell_type": "code",
   "execution_count": 12,
   "id": "262f53d6",
   "metadata": {},
   "outputs": [],
   "source": [
    "cont_2d = Container.empty([11800, 2340, 2690])"
   ]
  },
  {
   "cell_type": "code",
   "execution_count": 13,
   "id": "0092c2b2",
   "metadata": {},
   "outputs": [],
   "source": [
    "cargo = Box(0, 0, box_dims[0])\n",
    "cargo.dims\n",
    "cargo1 = Box(0, 0, box_dims[0])"
   ]
  },
  {
   "cell_type": "code",
   "execution_count": null,
   "id": "ef65fbe1",
   "metadata": {},
   "outputs": [],
   "source": []
  },
  {
   "cell_type": "code",
   "execution_count": 23,
   "id": "38455215",
   "metadata": {},
   "outputs": [
    {
     "name": "stdout",
     "output_type": "stream",
     "text": [
      "[<__main__.Point object at 0x0000020C841DF730>, <__main__.Point object at 0x0000020C841E4700>]\n"
     ]
    }
   ],
   "source": [
    "cont_2d.place(Point.two_dim_point(0,0), cargo)\n",
    "\n",
    "cont_2d.box_loc\n",
    "\n",
    "cont_2d.find_corners_2d(num_boxes, box_dims)\n",
    "\n",
    "print(cont_2d.corner)"
   ]
  },
  {
   "cell_type": "code",
   "execution_count": 156,
   "id": "d08c8f1b",
   "metadata": {},
   "outputs": [
    {
     "name": "stdout",
     "output_type": "stream",
     "text": [
      "(0,470,0)\n",
      "(605,0,0)\n"
     ]
    }
   ],
   "source": [
    "for i in cont_2d.corner:\n",
    "    print(i)"
   ]
  },
  {
   "cell_type": "code",
   "execution_count": 157,
   "id": "c42fac2f",
   "metadata": {},
   "outputs": [
    {
     "name": "stdout",
     "output_type": "stream",
     "text": [
      "0\n",
      "1\n",
      "em: [0, 0, 1]\n",
      "m: 2\n",
      "(0,940,0)\n",
      "(605,0,0)\n",
      "(605,470,0)\n"
     ]
    }
   ],
   "source": [
    "cont_2d.place(cont_2d.corner[0], cargo1)\n",
    "cont_2d.find_corners_2d(num_boxes, box_dims)\n",
    "for i in cont_2d.corner:\n",
    "    print(i)"
   ]
  },
  {
   "cell_type": "code",
   "execution_count": 290,
   "id": "b38c4bb8",
   "metadata": {},
   "outputs": [
    {
     "name": "stdout",
     "output_type": "stream",
     "text": [
      "(0,940,0)\n",
      "(1210,0,0)\n",
      "(605,470,0)\n",
      "False\n",
      "False\n",
      "(0,940,0)\n",
      "(1210,0,0)\n",
      "(605,470,0)\n"
     ]
    }
   ],
   "source": [
    "cont_2d.place(cont_2d.corner[1], cargo1)\n",
    "cont_2d.find_corners_2d(num_boxes, box_dims)\n",
    "for i in cont_2d.corner:\n",
    "    print(i)\n",
    "\n",
    "cont_2d.sort_corners()\n",
    "\n",
    "for i in cont_2d.corner:\n",
    "    print(i)"
   ]
  },
  {
   "cell_type": "code",
   "execution_count": 291,
   "id": "7d298bca",
   "metadata": {},
   "outputs": [
    {
     "name": "stdout",
     "output_type": "stream",
     "text": [
      "[<__main__.Point object at 0x000002B8AFACAB20>, <__main__.Point object at 0x000002B8AFACAD90>, <__main__.Point object at 0x000002B8AFABA580>]\n"
     ]
    }
   ],
   "source": [
    "cont_2d.find_corners_2d(num_boxes, box_dims)\n",
    "\n",
    "print(cont_2d.corner)"
   ]
  },
  {
   "cell_type": "code",
   "execution_count": 292,
   "id": "6d1bafb1",
   "metadata": {},
   "outputs": [
    {
     "name": "stdout",
     "output_type": "stream",
     "text": [
      "(0,940,0)\n",
      "(1210,0,0)\n",
      "(605,470,0)\n"
     ]
    }
   ],
   "source": [
    "for i in cont_2d.corner:\n",
    "    print(i)"
   ]
  },
  {
   "cell_type": "code",
   "execution_count": 19,
   "id": "95c3691c",
   "metadata": {},
   "outputs": [
    {
     "name": "stdout",
     "output_type": "stream",
     "text": [
      "(0,0,0)\n"
     ]
    }
   ],
   "source": [
    "cont_test = Container.empty([1, 1, 1])\n",
    "cont_test.find_corners_2d(num_boxes, box_dims)\n",
    "print(cont_test.corner[0])"
   ]
  },
  {
   "cell_type": "code",
   "execution_count": 91,
   "id": "7ebdfd89",
   "metadata": {},
   "outputs": [],
   "source": [
    "cont_2d = Container.empty([11800, 2340, 2690])"
   ]
  },
  {
   "cell_type": "code",
   "execution_count": 92,
   "id": "b6dc0bda",
   "metadata": {},
   "outputs": [
    {
     "name": "stdout",
     "output_type": "stream",
     "text": [
      "val 0\n",
      "val 1 0\n",
      "m: 1\n",
      "m: 1\n",
      "m: 2\n",
      "val 568700\n",
      "val 1 5975475\n",
      "m: 1\n",
      "m, x_bar (1, 605)\n",
      "box_locations {<__main__.Point object at 0x00000181D6AB7550>: (0, 605, 470, 500), <__main__.Point object at 0x00000181D6C11040>: (0, 605, 940, 500), <__main__.Point object at 0x00000181D6AA6E20>: (0, 1210, 470, 500)}\n",
      "m, x_bar (2, 1210)\n",
      "box_locations {<__main__.Point object at 0x00000181D6AB7550>: (0, 605, 470, 500), <__main__.Point object at 0x00000181D6C11040>: (0, 605, 940, 500), <__main__.Point object at 0x00000181D6AA6E20>: (0, 1210, 470, 500)}\n",
      "m: 2\n",
      "m, x_bar (1, 605)\n",
      "box_locations {<__main__.Point object at 0x00000181D6AB7550>: (0, 605, 470, 500), <__main__.Point object at 0x00000181D6C11040>: (0, 605, 940, 500), <__main__.Point object at 0x00000181D6AA6E20>: (0, 1075, 605, 500)}\n",
      "m, x_bar (2, 1075)\n",
      "box_locations {<__main__.Point object at 0x00000181D6AB7550>: (0, 605, 470, 500), <__main__.Point object at 0x00000181D6C11040>: (0, 605, 940, 500), <__main__.Point object at 0x00000181D6AA6E20>: (0, 1075, 605, 500)}\n",
      "m: 2\n",
      "val 6399050\n",
      "val 1 7783475\n",
      "m, x_bar (1, 605)\n",
      "box_locations {<__main__.Point object at 0x00000181D6AB7550>: (0, 605, 470, 500), <__main__.Point object at 0x00000181D6C11040>: (0, 605, 940, 500), <__main__.Point object at 0x00000181D6AA6E20>: (0, 1210, 470, 500)}\n",
      "m, x_bar (2, 1210)\n",
      "box_locations {<__main__.Point object at 0x00000181D6AB7550>: (0, 605, 470, 500), <__main__.Point object at 0x00000181D6C11040>: (0, 605, 940, 500), <__main__.Point object at 0x00000181D6AA6E20>: (0, 1210, 470, 500)}\n",
      "m: 2\n",
      "m: 1\n",
      "m: 2\n",
      "val 1137400\n",
      "val 1 6341500\n",
      "m: 1\n"
     ]
    }
   ],
   "source": [
    "cont_2d.place(Point.two_dim_point(0, 0), cargo)\n",
    "cont_2d.find_corners_2d(num_boxes, box_dims)\n",
    "cont_2d.sort_corners()\n",
    "\n",
    "cont_2d.place(cont_2d.corner[0], cargo)\n",
    "cont_2d.find_corners_2d(num_boxes, box_dims)\n",
    "cont_2d.sort_corners()\n",
    "\n",
    "cont_2d.place(cont_2d.corner[0], cargo)\n",
    "cont_2d.find_corners_2d(num_boxes, box_dims)\n",
    "cont_2d.sort_corners()\n",
    "\n",
    "cont_2d.place(cont_2d.corner[0], cargo)\n",
    "cont_2d.find_corners_2d(num_boxes, box_dims)\n",
    "cont_2d.sort_corners()\n",
    "\n",
    "# cont_2d.place(cont_2d.corner[0], cargo)\n",
    "# cont_2d.find_corners_2d(num_boxes, box_dims)\n",
    "# cont_2d.sort_corners()\n",
    "# cont_2d.place(Point.two_dim_point(605, 470), cargo)\n",
    "# # cont_2d.place(Point.two_dim_point(1210, 470), cargo)"
   ]
  },
  {
   "cell_type": "code",
   "execution_count": 93,
   "id": "c74a2ac1",
   "metadata": {},
   "outputs": [
    {
     "name": "stdout",
     "output_type": "stream",
     "text": [
      "m: 1\n",
      "(0,940,0)\n",
      "(1210,0,0)\n",
      "\n",
      "\n",
      "(0,940,0)\n",
      "(1210,0,0)\n"
     ]
    }
   ],
   "source": [
    "cont_2d.find_corners_2d(num_boxes, box_dims)\n",
    "for i in cont_2d.corner:\n",
    "    print(i)\n",
    "\n",
    "print(\"\\n\")\n",
    "cont_2d.sort_corners()\n",
    "\n",
    "for i in cont_2d.corner:\n",
    "    print(i)\n",
    "    \n"
   ]
  },
  {
   "cell_type": "code",
   "execution_count": 94,
   "id": "e32f4873",
   "metadata": {},
   "outputs": [
    {
     "name": "stdout",
     "output_type": "stream",
     "text": [
      "Corner: (0,0,0)| Box End Location: (0, 605, 470, 500)\n",
      "Corner: (0,470,0)| Box End Location: (0, 605, 940, 500)\n",
      "Corner: (605,0,0)| Box End Location: (0, 1210, 470, 500)\n",
      "Corner: (605,470,0)| Box End Location: (0, 1210, 940, 500)\n"
     ]
    }
   ],
   "source": [
    "for corner, box in cont_2d.box_loc.items():\n",
    "    print(\"Corner: \" + str(corner) + \"| Box End Location: \" + str(box))"
   ]
  },
  {
   "cell_type": "code",
   "execution_count": 214,
   "id": "2e6bc54e",
   "metadata": {},
   "outputs": [
    {
     "name": "stdout",
     "output_type": "stream",
     "text": [
      "<class 'list'>\n"
     ]
    }
   ],
   "source": [
    "print(type(cont_2d.corner))"
   ]
  },
  {
   "cell_type": "code",
   "execution_count": 123,
   "id": "7498afd3",
   "metadata": {},
   "outputs": [
    {
     "data": {
      "text/plain": [
       "[(<__main__.Point at 0x29f7ae2d850>, (0, 605, 1410, 500)),\n",
       " (<__main__.Point at 0x29f7af7b250>, (0, 1210, 940, 500)),\n",
       " (<__main__.Point at 0x29f7ae2d4c0>, (0, 605, 940, 500)),\n",
       " (<__main__.Point at 0x29f7af7b310>, (0, 1815, 470, 500)),\n",
       " (<__main__.Point at 0x29f7ae2d910>, (0, 1210, 470, 500)),\n",
       " (<__main__.Point at 0x29f7ae2da90>, (0, 605, 470, 500))]"
      ]
     },
     "execution_count": 123,
     "metadata": {},
     "output_type": "execute_result"
    }
   ],
   "source": [
    "cont_2d.ordered_box[0]"
   ]
  },
  {
   "cell_type": "code",
   "execution_count": 296,
   "id": "80491bc8",
   "metadata": {},
   "outputs": [
    {
     "data": {
      "text/plain": [
       "array([[0, 1, 2],\n",
       "       [3, 4, 5],\n",
       "       [6, 7, 8]])"
      ]
     },
     "execution_count": 296,
     "metadata": {},
     "output_type": "execute_result"
    }
   ],
   "source": [
    "test = np.arange(9).reshape(3, -1)\n",
    "test"
   ]
  },
  {
   "cell_type": "code",
   "execution_count": 332,
   "id": "df843fce",
   "metadata": {},
   "outputs": [
    {
     "data": {
      "text/plain": [
       "list"
      ]
     },
     "execution_count": 332,
     "metadata": {},
     "output_type": "execute_result"
    }
   ],
   "source": [
    "type(box_dims)"
   ]
  },
  {
   "cell_type": "code",
   "execution_count": 337,
   "id": "9ae31c62",
   "metadata": {},
   "outputs": [
    {
     "data": {
      "text/plain": [
       "array([ 605,  675, 1150])"
      ]
     },
     "execution_count": 337,
     "metadata": {},
     "output_type": "execute_result"
    }
   ],
   "source": [
    "box_dims[:,0]"
   ]
  },
  {
   "cell_type": "code",
   "execution_count": 298,
   "id": "4dd08f6f",
   "metadata": {},
   "outputs": [],
   "source": [
    "arr =[1,0,1]"
   ]
  },
  {
   "cell_type": "code",
   "execution_count": 335,
   "id": "04dc6022",
   "metadata": {},
   "outputs": [
    {
     "data": {
      "text/plain": [
       "array([0, 3, 6])"
      ]
     },
     "execution_count": 335,
     "metadata": {},
     "output_type": "execute_result"
    }
   ],
   "source": [
    "test[:,0]"
   ]
  },
  {
   "cell_type": "code",
   "execution_count": 300,
   "id": "ed426c06",
   "metadata": {},
   "outputs": [
    {
     "data": {
      "text/plain": [
       "array([[0, 1, 2],\n",
       "       [3, 4, 5],\n",
       "       [6, 7, 8]])"
      ]
     },
     "execution_count": 300,
     "metadata": {},
     "output_type": "execute_result"
    }
   ],
   "source": [
    "test"
   ]
  },
  {
   "cell_type": "code",
   "execution_count": 301,
   "id": "77c484b6",
   "metadata": {},
   "outputs": [
    {
     "data": {
      "text/plain": [
       "array([], dtype=int32)"
      ]
     },
     "execution_count": 301,
     "metadata": {},
     "output_type": "execute_result"
    }
   ],
   "source": [
    "np.arange(2,2)"
   ]
  },
  {
   "cell_type": "code",
   "execution_count": 34,
   "id": "369e6d88",
   "metadata": {},
   "outputs": [
    {
     "name": "stdout",
     "output_type": "stream",
     "text": [
      "run 0.0\n",
      "val 0\n",
      "val 1 0\n",
      "run 1.0\n",
      "i[1][3]:  500\n",
      "ordered_boxes:  []\n"
     ]
    },
    {
     "ename": "IndexError",
     "evalue": "list index out of range",
     "output_type": "error",
     "traceback": [
      "\u001b[1;31m---------------------------------------------------------------------------\u001b[0m",
      "\u001b[1;31mIndexError\u001b[0m                                Traceback (most recent call last)",
      "\u001b[1;32m~\\AppData\\Local\\Temp/ipykernel_13172/2770105996.py\u001b[0m in \u001b[0;36m<module>\u001b[1;34m\u001b[0m\n\u001b[0;32m      4\u001b[0m     \u001b[0mcargo\u001b[0m \u001b[1;33m=\u001b[0m \u001b[0mBox\u001b[0m\u001b[1;33m(\u001b[0m\u001b[1;36m0\u001b[0m\u001b[1;33m,\u001b[0m \u001b[1;36m0\u001b[0m\u001b[1;33m,\u001b[0m \u001b[0mbox_dims\u001b[0m\u001b[1;33m[\u001b[0m\u001b[1;36m0\u001b[0m\u001b[1;33m]\u001b[0m\u001b[1;33m)\u001b[0m\u001b[1;33m\u001b[0m\u001b[1;33m\u001b[0m\u001b[0m\n\u001b[0;32m      5\u001b[0m \u001b[1;31m#     cont_2d.sort_corners()\u001b[0m\u001b[1;33m\u001b[0m\u001b[1;33m\u001b[0m\u001b[0m\n\u001b[1;32m----> 6\u001b[1;33m     \u001b[0mcont_3d\u001b[0m\u001b[1;33m.\u001b[0m\u001b[0mfind_corners_3d\u001b[0m\u001b[1;33m(\u001b[0m\u001b[0mnum_boxes\u001b[0m\u001b[1;33m,\u001b[0m \u001b[0mbox_dims\u001b[0m\u001b[1;33m)\u001b[0m\u001b[1;33m\u001b[0m\u001b[1;33m\u001b[0m\u001b[0m\n\u001b[0m\u001b[0;32m      7\u001b[0m     \u001b[0mcont_3d\u001b[0m\u001b[1;33m.\u001b[0m\u001b[0mplace\u001b[0m\u001b[1;33m(\u001b[0m\u001b[0mcont_3d\u001b[0m\u001b[1;33m.\u001b[0m\u001b[0mcorner_3d\u001b[0m\u001b[1;33m[\u001b[0m\u001b[1;36m0\u001b[0m\u001b[1;33m]\u001b[0m\u001b[1;33m,\u001b[0m \u001b[0mcargo\u001b[0m\u001b[1;33m)\u001b[0m\u001b[1;33m\u001b[0m\u001b[1;33m\u001b[0m\u001b[0m\n\u001b[0;32m      8\u001b[0m     \u001b[0mnum_boxes\u001b[0m\u001b[1;33m[\u001b[0m\u001b[1;36m0\u001b[0m\u001b[1;33m]\u001b[0m \u001b[1;33m-=\u001b[0m \u001b[1;36m1\u001b[0m\u001b[1;33m\u001b[0m\u001b[1;33m\u001b[0m\u001b[0m\n",
      "\u001b[1;32m~\\AppData\\Local\\Temp/ipykernel_13172/2912143726.py\u001b[0m in \u001b[0;36mfind_corners_3d\u001b[1;34m(self, box_list, box_dims)\u001b[0m\n\u001b[0;32m    214\u001b[0m                 \u001b[1;32mif\u001b[0m\u001b[1;33m(\u001b[0m\u001b[0mi\u001b[0m\u001b[1;33m[\u001b[0m\u001b[1;36m1\u001b[0m\u001b[1;33m]\u001b[0m\u001b[1;33m[\u001b[0m\u001b[1;36m3\u001b[0m\u001b[1;33m]\u001b[0m \u001b[1;33m>\u001b[0m \u001b[0mT_sorted\u001b[0m\u001b[1;33m[\u001b[0m\u001b[0mk\u001b[0m\u001b[1;33m]\u001b[0m\u001b[1;33m)\u001b[0m\u001b[1;33m:\u001b[0m\u001b[1;33m\u001b[0m\u001b[1;33m\u001b[0m\u001b[0m\n\u001b[0;32m    215\u001b[0m                     \u001b[0mIk\u001b[0m\u001b[1;33m.\u001b[0m\u001b[0mappend\u001b[0m\u001b[1;33m(\u001b[0m\u001b[0mi\u001b[0m\u001b[1;33m)\u001b[0m\u001b[1;33m\u001b[0m\u001b[1;33m\u001b[0m\u001b[0m\n\u001b[1;32m--> 216\u001b[1;33m             \u001b[0mself\u001b[0m\u001b[1;33m.\u001b[0m\u001b[0mfind_corners_2d\u001b[0m\u001b[1;33m(\u001b[0m\u001b[0mbox_list\u001b[0m\u001b[1;33m,\u001b[0m \u001b[0mbox_dims\u001b[0m\u001b[1;33m,\u001b[0m \u001b[0mIk\u001b[0m\u001b[1;33m)\u001b[0m\u001b[1;33m\u001b[0m\u001b[1;33m\u001b[0m\u001b[0m\n\u001b[0m\u001b[0;32m    217\u001b[0m \u001b[1;33m\u001b[0m\u001b[0m\n\u001b[0;32m    218\u001b[0m             \u001b[1;32mfor\u001b[0m \u001b[0mpt\u001b[0m \u001b[1;32min\u001b[0m \u001b[0mself\u001b[0m\u001b[1;33m.\u001b[0m\u001b[0mcorner\u001b[0m\u001b[1;33m:\u001b[0m\u001b[1;33m\u001b[0m\u001b[1;33m\u001b[0m\u001b[0m\n",
      "\u001b[1;32m~\\anaconda3\\lib\\site-packages\\multipledispatch\\dispatcher.py\u001b[0m in \u001b[0;36m__call__\u001b[1;34m(self, *args, **kwargs)\u001b[0m\n\u001b[0;32m    433\u001b[0m             raise NotImplementedError('Could not find signature for %s: <%s>' %\n\u001b[0;32m    434\u001b[0m                                       (self.name, str_signature(types)))\n\u001b[1;32m--> 435\u001b[1;33m         \u001b[1;32mreturn\u001b[0m \u001b[0mfunc\u001b[0m\u001b[1;33m(\u001b[0m\u001b[0mself\u001b[0m\u001b[1;33m.\u001b[0m\u001b[0mobj\u001b[0m\u001b[1;33m,\u001b[0m \u001b[1;33m*\u001b[0m\u001b[0margs\u001b[0m\u001b[1;33m,\u001b[0m \u001b[1;33m**\u001b[0m\u001b[0mkwargs\u001b[0m\u001b[1;33m)\u001b[0m\u001b[1;33m\u001b[0m\u001b[1;33m\u001b[0m\u001b[0m\n\u001b[0m\u001b[0;32m    436\u001b[0m \u001b[1;33m\u001b[0m\u001b[0m\n\u001b[0;32m    437\u001b[0m \u001b[1;33m\u001b[0m\u001b[0m\n",
      "\u001b[1;32m~\\AppData\\Local\\Temp/ipykernel_13172/2912143726.py\u001b[0m in \u001b[0;36mfind_corners_2d\u001b[1;34m(self, box_list, box_dims, available_boxes)\u001b[0m\n\u001b[0;32m    163\u001b[0m         \u001b[1;31m# Phase 2: Find Corner Points\u001b[0m\u001b[1;33m\u001b[0m\u001b[1;33m\u001b[0m\u001b[0m\n\u001b[0;32m    164\u001b[0m         \u001b[0mprint\u001b[0m\u001b[1;33m(\u001b[0m\u001b[1;34m\"ordered_boxes: \"\u001b[0m\u001b[1;33m,\u001b[0m \u001b[0mordered_boxes\u001b[0m\u001b[1;33m)\u001b[0m\u001b[1;33m\u001b[0m\u001b[1;33m\u001b[0m\u001b[0m\n\u001b[1;32m--> 165\u001b[1;33m         \u001b[0mself\u001b[0m\u001b[1;33m.\u001b[0m\u001b[0mcorner\u001b[0m\u001b[1;33m.\u001b[0m\u001b[0mappend\u001b[0m\u001b[1;33m(\u001b[0m\u001b[0mPoint\u001b[0m\u001b[1;33m.\u001b[0m\u001b[0mtwo_dim_point\u001b[0m\u001b[1;33m(\u001b[0m\u001b[1;36m0\u001b[0m\u001b[1;33m,\u001b[0m \u001b[0mordered_boxes\u001b[0m\u001b[1;33m[\u001b[0m\u001b[1;36m0\u001b[0m\u001b[1;33m]\u001b[0m\u001b[1;33m[\u001b[0m\u001b[1;36m1\u001b[0m\u001b[1;33m]\u001b[0m\u001b[1;33m[\u001b[0m\u001b[1;36m2\u001b[0m\u001b[1;33m]\u001b[0m\u001b[1;33m)\u001b[0m\u001b[1;33m)\u001b[0m\u001b[1;33m\u001b[0m\u001b[1;33m\u001b[0m\u001b[0m\n\u001b[0m\u001b[0;32m    166\u001b[0m         \u001b[0mself\u001b[0m\u001b[1;33m.\u001b[0m\u001b[0mcorner\u001b[0m\u001b[1;33m.\u001b[0m\u001b[0mappend\u001b[0m\u001b[1;33m(\u001b[0m\u001b[0mPoint\u001b[0m\u001b[1;33m.\u001b[0m\u001b[0mtwo_dim_point\u001b[0m\u001b[1;33m(\u001b[0m\u001b[0mordered_boxes\u001b[0m\u001b[1;33m[\u001b[0m\u001b[0mem\u001b[0m\u001b[1;33m[\u001b[0m\u001b[0mm\u001b[0m\u001b[1;33m]\u001b[0m\u001b[1;33m]\u001b[0m\u001b[1;33m[\u001b[0m\u001b[1;36m1\u001b[0m\u001b[1;33m]\u001b[0m\u001b[1;33m[\u001b[0m\u001b[1;36m1\u001b[0m\u001b[1;33m]\u001b[0m\u001b[1;33m,\u001b[0m \u001b[1;36m0\u001b[0m\u001b[1;33m)\u001b[0m\u001b[1;33m)\u001b[0m\u001b[1;33m\u001b[0m\u001b[1;33m\u001b[0m\u001b[0m\n\u001b[0;32m    167\u001b[0m         \u001b[1;32mfor\u001b[0m \u001b[0mj\u001b[0m \u001b[1;32min\u001b[0m \u001b[0mnp\u001b[0m\u001b[1;33m.\u001b[0m\u001b[0marange\u001b[0m\u001b[1;33m(\u001b[0m\u001b[1;36m2\u001b[0m\u001b[1;33m,\u001b[0m \u001b[0mm\u001b[0m\u001b[1;33m+\u001b[0m\u001b[1;36m1\u001b[0m\u001b[1;33m)\u001b[0m\u001b[1;33m:\u001b[0m\u001b[1;33m\u001b[0m\u001b[1;33m\u001b[0m\u001b[0m\n",
      "\u001b[1;31mIndexError\u001b[0m: list index out of range"
     ]
    }
   ],
   "source": [
    "cont_3d = Container.empty([11800, 2340, 2690])\n",
    "\n",
    "for i in np.arange(num_boxes[0]):\n",
    "    print(\"run\", i)\n",
    "    cargo = Box(0, 0, box_dims[0])\n",
    "#     cont_2d.sort_corners()\n",
    "    cont_3d.find_corners_3d(num_boxes, box_dims)\n",
    "    cont_3d.place(cont_3d.corner_3d[0], cargo)\n",
    "    num_boxes[0] -= 1"
   ]
  },
  {
   "cell_type": "code",
   "execution_count": 15,
   "id": "7ed14d62",
   "metadata": {},
   "outputs": [],
   "source": [
    "for i in cont_3d.corner:\n",
    "    print(i)"
   ]
  },
  {
   "cell_type": "code",
   "execution_count": 16,
   "id": "18b1438f",
   "metadata": {},
   "outputs": [
    {
     "data": {
      "text/plain": [
       "array([  0.,   0., 193.])"
      ]
     },
     "execution_count": 16,
     "metadata": {},
     "output_type": "execute_result"
    }
   ],
   "source": [
    "num_boxes"
   ]
  },
  {
   "cell_type": "code",
   "execution_count": 365,
   "id": "4203f472",
   "metadata": {},
   "outputs": [
    {
     "name": "stdout",
     "output_type": "stream",
     "text": [
      "(19360,0,0)\n",
      "(19360,940,0)\n"
     ]
    }
   ],
   "source": [
    "for i in cont_2d.corner:\n",
    "    print(i)"
   ]
  },
  {
   "cell_type": "code",
   "execution_count": 424,
   "id": "1805de3f",
   "metadata": {},
   "outputs": [
    {
     "data": {
      "text/plain": [
       "array([ 54., 176.,  77.])"
      ]
     },
     "execution_count": 424,
     "metadata": {},
     "output_type": "execute_result"
    }
   ],
   "source": [
    "num_boxes"
   ]
  },
  {
   "cell_type": "code",
   "execution_count": 18,
   "id": "ea5a8bf3",
   "metadata": {},
   "outputs": [],
   "source": [
    "testpt1 = Point(1,2,3)\n",
    "testpt2 = Point(1,2,4)\n",
    "testpt3 = Point(1,3,3)"
   ]
  },
  {
   "cell_type": "code",
   "execution_count": 188,
   "id": "0b5dbb38",
   "metadata": {},
   "outputs": [],
   "source": [
    "space_occupancy = .05"
   ]
  },
  {
   "cell_type": "code",
   "execution_count": 189,
   "id": "edbd355a",
   "metadata": {},
   "outputs": [
    {
     "ename": "NameError",
     "evalue": "name 'testpt1' is not defined",
     "output_type": "error",
     "traceback": [
      "\u001b[1;31m---------------------------------------------------------------------------\u001b[0m",
      "\u001b[1;31mNameError\u001b[0m                                 Traceback (most recent call last)",
      "\u001b[1;32m~\\AppData\\Local\\Temp/ipykernel_15320/27846428.py\u001b[0m in \u001b[0;36m<module>\u001b[1;34m\u001b[0m\n\u001b[1;32m----> 1\u001b[1;33m \u001b[0mtestpt1\u001b[0m \u001b[1;33m==\u001b[0m \u001b[0mtestpt2\u001b[0m\u001b[1;33m\u001b[0m\u001b[1;33m\u001b[0m\u001b[0m\n\u001b[0m",
      "\u001b[1;31mNameError\u001b[0m: name 'testpt1' is not defined"
     ]
    }
   ],
   "source": [
    "testpt1 == testpt2"
   ]
  },
  {
   "cell_type": "code",
   "execution_count": 277,
   "id": "e9a05d81",
   "metadata": {},
   "outputs": [
    {
     "data": {
      "text/plain": [
       "array([  0.,   0., 193.])"
      ]
     },
     "execution_count": 277,
     "metadata": {},
     "output_type": "execute_result"
    }
   ],
   "source": [
    "num_boxes = cargo_count()\n",
    "num_boxes"
   ]
  },
  {
   "cell_type": "code",
   "execution_count": 278,
   "id": "32f94c4c",
   "metadata": {},
   "outputs": [
    {
     "name": "stdout",
     "output_type": "stream",
     "text": [
      "val 0\n",
      "val 1 0\n",
      "val 667000\n",
      "val 1 4993900\n",
      "val 1000500\n",
      "val 1 5243300\n",
      "val 1334000\n",
      "val 1 5492700\n",
      "val 15950900\n",
      "val 1 13917900\n",
      "val 6423500\n",
      "val 1 14335500\n",
      "val 9509100\n",
      "val 1 6327900\n",
      "val 6243800\n",
      "val 1 9747000\n",
      "val 6159700\n",
      "val 1 9996400\n",
      "val 3340800\n",
      "val 1 10245800\n",
      "val 14660400\n",
      "val 1 7746000\n",
      "val 10437100\n",
      "val 1 13792200\n",
      "val 11443400\n",
      "val 1 14041600\n",
      "val 11776900\n",
      "val 1 12136200\n",
      "val 12887300\n",
      "val 1 14624500\n",
      "val 13220800\n",
      "val 1 12385600\n",
      "val 12719100\n",
      "val 1 15134800\n",
      "val 13052600\n",
      "val 1 16062800\n",
      "val 13386100\n",
      "val 1 16990800\n",
      "val 23311000\n",
      "val 1 17918800\n",
      "val 18336400\n",
      "val 1 17417100\n",
      "val 18008700\n",
      "val 1 19914000\n",
      "val 18342200\n",
      "val 1 21100100\n",
      "val 18675700\n",
      "val 1 22028100\n",
      "val 27600100\n",
      "val 1 22956100\n",
      "val 23289600\n",
      "val 1 22454400\n",
      "val 23379500\n",
      "val 1 24699000\n",
      "val 23713000\n",
      "val 1 26218600\n",
      "val 24046500\n",
      "val 1 27146600\n",
      "val 31970400\n",
      "val 1 28074600\n",
      "val 25751600\n",
      "val 1 27488800\n",
      "val 23428600\n",
      "val 1 25165800\n",
      "val 21570000\n",
      "val 1 22842800\n",
      "val 24669300\n",
      "val 1 21233600\n",
      "val 20897200\n",
      "val 1 24927400\n",
      "val 21518600\n",
      "val 1 18611800\n",
      "val 20270600\n",
      "val 1 18953700\n",
      "val 19287200\n",
      "val 1 21207000\n",
      "val 19620700\n",
      "val 1 22135000\n",
      "val 25221600\n",
      "val 1 23063000\n",
      "val 23611500\n",
      "val 1 22645400\n",
      "val 23155800\n",
      "val 1 24051900\n",
      "val 23489300\n",
      "val 1 25156800\n",
      "val 23822800\n",
      "val 1 26084800\n",
      "val 28423200\n",
      "val 1 27012800\n",
      "val 27346300\n",
      "val 1 26511100\n",
      "val 27189700\n",
      "val 1 27665300\n",
      "val 27523200\n",
      "val 1 28938400\n",
      "val 27856700\n",
      "val 1 29866400\n",
      "val 31456600\n",
      "val 1 30794400\n",
      "val 28471400\n",
      "val 1 30208600\n",
      "val 26354800\n",
      "val 1 27885600\n",
      "val 27748700\n",
      "val 1 26018400\n",
      "val 25682000\n",
      "val 1 28006800\n",
      "val 25345600\n",
      "val 1 28264900\n",
      "val 26004600\n",
      "val 1 26331400\n",
      "val 25670700\n",
      "val 1 28523000\n",
      "val 26349300\n",
      "val 1 26925500\n",
      "val 26015800\n",
      "val 1 28764000\n",
      "val 26694400\n",
      "val 1 24735400\n",
      "val 25135600\n",
      "val 1 25080500\n",
      "val 25414000\n",
      "val 1 25396600\n",
      "val 26745800\n",
      "val 1 25657600\n",
      "val 26002700\n",
      "val 1 25973700\n"
     ]
    },
    {
     "ename": "IndexError",
     "evalue": "list index out of range",
     "output_type": "error",
     "traceback": [
      "\u001b[1;31m---------------------------------------------------------------------------\u001b[0m",
      "\u001b[1;31mIndexError\u001b[0m                                Traceback (most recent call last)",
      "\u001b[1;32m~\\AppData\\Local\\Temp/ipykernel_15320/2777296204.py\u001b[0m in \u001b[0;36m<module>\u001b[1;34m\u001b[0m\n\u001b[0;32m     18\u001b[0m \u001b[1;32mfor\u001b[0m \u001b[0mi\u001b[0m \u001b[1;32min\u001b[0m \u001b[0mnp\u001b[0m\u001b[1;33m.\u001b[0m\u001b[0marange\u001b[0m\u001b[1;33m(\u001b[0m\u001b[0mnum_boxes\u001b[0m\u001b[1;33m[\u001b[0m\u001b[1;36m2\u001b[0m\u001b[1;33m]\u001b[0m\u001b[1;33m)\u001b[0m\u001b[1;33m:\u001b[0m\u001b[1;33m\u001b[0m\u001b[1;33m\u001b[0m\u001b[0m\n\u001b[0;32m     19\u001b[0m     \u001b[0mcargo\u001b[0m \u001b[1;33m=\u001b[0m \u001b[0mBox\u001b[0m\u001b[1;33m(\u001b[0m\u001b[1;36m2\u001b[0m\u001b[1;33m,\u001b[0m \u001b[1;36m0\u001b[0m\u001b[1;33m,\u001b[0m \u001b[0mbox_dims\u001b[0m\u001b[1;33m[\u001b[0m\u001b[1;36m2\u001b[0m\u001b[1;33m]\u001b[0m\u001b[1;33m)\u001b[0m\u001b[1;33m\u001b[0m\u001b[1;33m\u001b[0m\u001b[0m\n\u001b[1;32m---> 20\u001b[1;33m     \u001b[0mcont_2d\u001b[0m\u001b[1;33m.\u001b[0m\u001b[0mplace\u001b[0m\u001b[1;33m(\u001b[0m\u001b[0mcont_2d\u001b[0m\u001b[1;33m.\u001b[0m\u001b[0mcorner\u001b[0m\u001b[1;33m[\u001b[0m\u001b[1;36m0\u001b[0m\u001b[1;33m]\u001b[0m\u001b[1;33m,\u001b[0m \u001b[0mcargo\u001b[0m\u001b[1;33m)\u001b[0m\u001b[1;33m\u001b[0m\u001b[1;33m\u001b[0m\u001b[0m\n\u001b[0m\u001b[0;32m     21\u001b[0m     \u001b[0mcont_2d\u001b[0m\u001b[1;33m.\u001b[0m\u001b[0mfind_corners_2d\u001b[0m\u001b[1;33m(\u001b[0m\u001b[0mnum_boxes\u001b[0m\u001b[1;33m,\u001b[0m \u001b[0mbox_dims\u001b[0m\u001b[1;33m)\u001b[0m\u001b[1;33m\u001b[0m\u001b[1;33m\u001b[0m\u001b[0m\n\u001b[0;32m     22\u001b[0m     \u001b[0mcont_2d\u001b[0m\u001b[1;33m.\u001b[0m\u001b[0msort_corners\u001b[0m\u001b[1;33m(\u001b[0m\u001b[1;33m)\u001b[0m\u001b[1;33m\u001b[0m\u001b[1;33m\u001b[0m\u001b[0m\n",
      "\u001b[1;31mIndexError\u001b[0m: list index out of range"
     ]
    }
   ],
   "source": [
    "cont_2d = Container.empty([11800, 2340, 2690])\n",
    "cont_2d.find_corners_2d(num_boxes, box_dims)\n",
    "for i in np.arange(num_boxes[0]):\n",
    "    cargo = Box(0, 0, box_dims[0])\n",
    "    print(cont_2d.corner)\n",
    "    cont_2d.place(cont_2d.corner[0], cargo)\n",
    "    cont_2d.find_corners_2d(num_boxes, box_dims)\n",
    "    cont_2d.sort_corners()\n",
    "    num_boxes[0] -= 1\n",
    "\n",
    "for i in np.arange(num_boxes[1]):\n",
    "    cargo = Box(1, 0, box_dims[1])\n",
    "    cont_2d.place(cont_2d.corner[0], cargo)\n",
    "    cont_2d.find_corners_2d(num_boxes, box_dims)\n",
    "    cont_2d.sort_corners()\n",
    "    num_boxes[1] -= 1\n",
    "    \n",
    "for i in np.arange(num_boxes[2]):\n",
    "    cargo = Box(2, 0, box_dims[2])\n",
    "    cont_2d.place(cont_2d.corner[0], cargo)\n",
    "    cont_2d.find_corners_2d(num_boxes, box_dims)\n",
    "    cont_2d.sort_corners()\n",
    "    num_boxes[2] -= 1"
   ]
  },
  {
   "cell_type": "code",
   "execution_count": 279,
   "id": "8282e54b",
   "metadata": {},
   "outputs": [
    {
     "name": "stdout",
     "output_type": "stream",
     "text": [
      "Corner: (0,0,0)| Box Location: (2, 290, 1150, 230)\n",
      "Corner: (290,0,0)| Box Location: (2, 580, 1150, 230)\n",
      "Corner: (580,0,0)| Box Location: (2, 870, 1150, 230)\n",
      "Corner: (870,0,0)| Box Location: (2, 1160, 1150, 230)\n",
      "Corner: (0,1150,0)| Box Location: (2, 1150, 1440, 230)\n",
      "Corner: (1160,0,0)| Box Location: (2, 2310, 290, 230)\n",
      "Corner: (1160,290,0)| Box Location: (2, 1450, 1440, 230)\n",
      "Corner: (1450,290,0)| Box Location: (2, 1740, 1440, 230)\n",
      "Corner: (1740,290,0)| Box Location: (2, 2030, 1440, 230)\n",
      "Corner: (2030,290,0)| Box Location: (2, 2320, 1440, 230)\n",
      "Corner: (2320,0,0)| Box Location: (2, 3470, 290, 230)\n",
      "Corner: (0,1440,0)| Box Location: (2, 1150, 1730, 230)\n",
      "Corner: (0,1730,0)| Box Location: (2, 1150, 2020, 230)\n",
      "Corner: (1150,1440,0)| Box Location: (2, 2300, 1730, 230)\n",
      "Corner: (0,2020,0)| Box Location: (2, 1150, 2310, 230)\n",
      "Corner: (1150,1730,0)| Box Location: (2, 1440, 2880, 230)\n",
      "Corner: (2320,290,0)| Box Location: (2, 2610, 1440, 230)\n",
      "Corner: (2610,290,0)| Box Location: (2, 2900, 1440, 230)\n",
      "Corner: (2900,290,0)| Box Location: (2, 3190, 1440, 230)\n",
      "Corner: (3190,290,0)| Box Location: (2, 4340, 580, 230)\n",
      "Corner: (1440,1730,0)| Box Location: (2, 1730, 2880, 230)\n",
      "Corner: (3190,580,0)| Box Location: (2, 3480, 1730, 230)\n",
      "Corner: (3480,580,0)| Box Location: (2, 3770, 1730, 230)\n",
      "Corner: (3770,580,0)| Box Location: (2, 4060, 1730, 230)\n",
      "Corner: (4060,580,0)| Box Location: (2, 5210, 870, 230)\n",
      "Corner: (1730,1730,0)| Box Location: (2, 2020, 2880, 230)\n",
      "Corner: (4060,870,0)| Box Location: (2, 4350, 2020, 230)\n",
      "Corner: (4350,870,0)| Box Location: (2, 4640, 2020, 230)\n",
      "Corner: (4640,870,0)| Box Location: (2, 4930, 2020, 230)\n",
      "Corner: (4930,870,0)| Box Location: (2, 6080, 1160, 230)\n",
      "Corner: (2020,2020,0)| Box Location: (2, 3170, 2310, 230)\n",
      "Corner: (3170,2020,0)| Box Location: (2, 4320, 2310, 230)\n",
      "Corner: (4320,2020,0)| Box Location: (2, 5470, 2310, 230)\n",
      "Corner: (5470,1160,0)| Box Location: (2, 5760, 2310, 230)\n",
      "Corner: (5760,1160,0)| Box Location: (2, 6050, 2310, 230)\n",
      "Corner: (6080,0,0)| Box Location: (2, 7230, 290, 230)\n",
      "Corner: (6080,290,0)| Box Location: (2, 6370, 1440, 230)\n",
      "Corner: (6370,290,0)| Box Location: (2, 6660, 1440, 230)\n",
      "Corner: (6660,290,0)| Box Location: (2, 6950, 1440, 230)\n",
      "Corner: (6950,290,0)| Box Location: (2, 8100, 580, 230)\n",
      "Corner: (6050,1440,0)| Box Location: (2, 6340, 2590, 230)\n",
      "Corner: (6950,580,0)| Box Location: (2, 7240, 1730, 230)\n",
      "Corner: (7240,580,0)| Box Location: (2, 7530, 1730, 230)\n",
      "Corner: (7530,580,0)| Box Location: (2, 7820, 1730, 230)\n",
      "Corner: (7820,580,0)| Box Location: (2, 8970, 870, 230)\n",
      "Corner: (6340,1730,0)| Box Location: (2, 6630, 2880, 230)\n",
      "Corner: (7820,870,0)| Box Location: (2, 8110, 2020, 230)\n",
      "Corner: (8110,870,0)| Box Location: (2, 8400, 2020, 230)\n",
      "Corner: (8400,870,0)| Box Location: (2, 8690, 2020, 230)\n",
      "Corner: (8690,870,0)| Box Location: (2, 9840, 1160, 230)\n",
      "Corner: (6630,2020,0)| Box Location: (2, 7780, 2310, 230)\n",
      "Corner: (7780,2020,0)| Box Location: (2, 8930, 2310, 230)\n",
      "Corner: (8930,1160,0)| Box Location: (2, 9220, 2310, 230)\n",
      "Corner: (9220,1160,0)| Box Location: (2, 9510, 2310, 230)\n",
      "Corner: (9510,1160,0)| Box Location: (2, 9800, 2310, 230)\n",
      "Corner: (9840,0,0)| Box Location: (2, 10130, 1150, 230)\n",
      "Corner: (9800,1160,0)| Box Location: (2, 10090, 2310, 230)\n",
      "Corner: (10130,0,0)| Box Location: (2, 10420, 1150, 230)\n",
      "Corner: (10090,1150,0)| Box Location: (2, 10380, 2300, 230)\n",
      "Corner: (10420,0,0)| Box Location: (2, 11570, 290, 230)\n",
      "Corner: (10420,290,0)| Box Location: (2, 10710, 1440, 230)\n",
      "Corner: (10710,290,0)| Box Location: (2, 11860, 580, 230)\n",
      "Corner: (10380,1440,0)| Box Location: (2, 10670, 2590, 230)\n",
      "Corner: (10710,580,0)| Box Location: (2, 11860, 870, 230)\n"
     ]
    }
   ],
   "source": [
    "for corner, box in cont_2d.box_loc.items():\n",
    "    print(\"Corner: \" + str(corner) + \"| Box Location: \" + str(box))"
   ]
  },
  {
   "cell_type": "code",
   "execution_count": 280,
   "id": "e5a3fd6e",
   "metadata": {},
   "outputs": [
    {
     "data": {
      "text/plain": [
       "27612000"
      ]
     },
     "execution_count": 280,
     "metadata": {},
     "output_type": "execute_result"
    }
   ],
   "source": [
    "container_dim[0] * container_dim[1]"
   ]
  },
  {
   "cell_type": "code",
   "execution_count": 284,
   "id": "2c89c780",
   "metadata": {},
   "outputs": [
    {
     "data": {
      "text/plain": [
       "0.7729972475735187"
      ]
     },
     "execution_count": 284,
     "metadata": {},
     "output_type": "execute_result"
    }
   ],
   "source": [
    "21344000/27612000"
   ]
  },
  {
   "cell_type": "code",
   "execution_count": 282,
   "id": "7714e441",
   "metadata": {},
   "outputs": [
    {
     "data": {
      "text/plain": [
       "array([  0.,   0., 129.])"
      ]
     },
     "execution_count": 282,
     "metadata": {},
     "output_type": "execute_result"
    }
   ],
   "source": [
    "num_boxes"
   ]
  },
  {
   "cell_type": "code",
   "execution_count": 164,
   "id": "166924f7",
   "metadata": {},
   "outputs": [
    {
     "data": {
      "text/plain": [
       "78"
      ]
     },
     "execution_count": 164,
     "metadata": {},
     "output_type": "execute_result"
    }
   ],
   "source": [
    "261-183"
   ]
  },
  {
   "cell_type": "code",
   "execution_count": 283,
   "id": "158aaf69",
   "metadata": {},
   "outputs": [
    {
     "data": {
      "text/plain": [
       "21344000"
      ]
     },
     "execution_count": 283,
     "metadata": {},
     "output_type": "execute_result"
    }
   ],
   "source": [
    "0*box_dims[0][0] * box_dims[0][1] + 0 * box_dims[1][0] * box_dims[1][1] + 64 * box_dims[2][0] * box_dims[2][1]"
   ]
  },
  {
   "cell_type": "code",
   "execution_count": 77,
   "id": "2379f9a6",
   "metadata": {},
   "outputs": [
    {
     "name": "stdout",
     "output_type": "stream",
     "text": [
      "1 [470 605 500]\n",
      "2 [470 605 500]\n",
      "3 [605 605 500]\n",
      "4 [605 470 500]\n",
      "1 [605 470 500]\n",
      "2 [605 470 500]\n",
      "3 [470 470 500]\n",
      "4 [470 605 500]\n"
     ]
    },
    {
     "data": {
      "text/plain": [
       "0"
      ]
     },
     "execution_count": 77,
     "metadata": {},
     "output_type": "execute_result"
    }
   ],
   "source": [
    "cargo.flip()\n",
    "cargo.dims\n",
    "cargo.flip()\n",
    "cargo.btype"
   ]
  },
  {
   "cell_type": "code",
   "execution_count": 71,
   "id": "9b05cfd4",
   "metadata": {},
   "outputs": [
    {
     "data": {
      "text/plain": [
       "<__main__.Box at 0x1b5476c5b20>"
      ]
     },
     "execution_count": 71,
     "metadata": {},
     "output_type": "execute_result"
    }
   ],
   "source": [
    "cargo"
   ]
  },
  {
   "cell_type": "code",
   "execution_count": 25,
   "id": "3de34099",
   "metadata": {},
   "outputs": [
    {
     "data": {
      "text/plain": [
       "True"
      ]
     },
     "execution_count": 25,
     "metadata": {},
     "output_type": "execute_result"
    }
   ],
   "source": [
    "testpt3 not in [testpt2, testpt2]"
   ]
  },
  {
   "cell_type": "markdown",
   "id": "283e72c1",
   "metadata": {},
   "source": [
    "corner <- associated box type"
   ]
  },
  {
   "cell_type": "markdown",
   "id": "a7f37dea",
   "metadata": {},
   "source": [
    "[{corner(Point): (box_type, end_x, end_y, end_z)}, {corner(Point): (box_type, end_x, end_y, end_z)}, {corner(Point): (box_type, end_x, end_y, end_z)}, {corner(Point): (box_type, end_x, end_y, end_z)}, {corner(Point): (box_type, end_x, end_y, end_z)}]\n",
    "\n",
    "0: [100, 200, 100]\n",
    "0b: [200, 100, 100]\n",
    "\n",
    "(0, 100, 0): (100, 200, 100)"
   ]
  }
 ],
 "metadata": {
  "kernelspec": {
   "display_name": "Python 3 (ipykernel)",
   "language": "python",
   "name": "python3"
  },
  "language_info": {
   "codemirror_mode": {
    "name": "ipython",
    "version": 3
   },
   "file_extension": ".py",
   "mimetype": "text/x-python",
   "name": "python",
   "nbconvert_exporter": "python",
   "pygments_lexer": "ipython3",
   "version": "3.9.7"
  }
 },
 "nbformat": 4,
 "nbformat_minor": 5
}
